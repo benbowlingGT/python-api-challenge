{
 "cells": [
  {
   "cell_type": "markdown",
   "metadata": {},
   "source": [
    "# WeatherPy\n",
    "----\n",
    "\n",
    "#### Note\n",
    "* Instructions have been included for each segment. You do not have to follow them exactly, but they are included to help you think through the steps."
   ]
  },
  {
   "cell_type": "code",
   "execution_count": 1,
   "metadata": {
    "scrolled": true
   },
   "outputs": [],
   "source": [
    "# Dependencies and Setup\n",
    "import matplotlib.pyplot as plt\n",
    "import pandas as pd\n",
    "import numpy as np\n",
    "import requests\n",
    "import time\n",
    "from scipy.stats import linregress\n",
    "\n",
    "# Import API key\n",
    "from api_keys import weather_api_key\n",
    "api_key = weather_api_key\n",
    "\n",
    "# Incorporated citipy to determine city based on latitude and longitude\n",
    "from citipy import citipy\n",
    "\n",
    "# Output File (CSV)\n",
    "output_data_file = \"output_data/cities.csv\"\n",
    "\n",
    "# Range of latitudes and longitudes\n",
    "lat_range = (-90, 90)\n",
    "lng_range = (-180, 180)"
   ]
  },
  {
   "cell_type": "markdown",
   "metadata": {},
   "source": [
    "## Generate Cities List"
   ]
  },
  {
   "cell_type": "code",
   "execution_count": 2,
   "metadata": {},
   "outputs": [
    {
     "data": {
      "text/plain": [
       "626"
      ]
     },
     "execution_count": 2,
     "metadata": {},
     "output_type": "execute_result"
    }
   ],
   "source": [
    "#list for holding lat_lngs and cities\n",
    "lat_lngs = []\n",
    "cities = []\n",
    "\n",
    "# Create a set of random lat and lng combinations\n",
    "lats = np.random.uniform(lat_range[0], lat_range[1], size=1500)\n",
    "lngs = np.random.uniform(lng_range[0], lng_range[1], size=1500)\n",
    "lat_lngs = zip(lats, lngs)\n",
    "\n",
    "# Identify nearest city for each lat, lng combination\n",
    "for lat_lng in lat_lngs:\n",
    "    city = citipy.nearest_city(lat_lng[0], lat_lng[1]).city_name\n",
    "    \n",
    "    # If the city is unique, then add it to a our cities list\n",
    "    if city not in cities:\n",
    "        cities.append(city)\n",
    "\n",
    "# Print the city count to confirm sufficient count\n",
    "len(cities)"
   ]
  },
  {
   "cell_type": "markdown",
   "metadata": {},
   "source": [
    "### Perform API Calls\n",
    "* Perform a weather check on each city using a series of successive API calls.\n",
    "* Include a print log of each city as it'sbeing processed (with the city number and city name).\n"
   ]
  },
  {
   "cell_type": "code",
   "execution_count": 3,
   "metadata": {},
   "outputs": [
    {
     "data": {
      "text/plain": [
       "['busselton',\n",
       " 'pallasovka',\n",
       " 'lebu',\n",
       " 'tuktoyaktuk',\n",
       " 'duzce',\n",
       " 'hunchun',\n",
       " 'pangnirtung',\n",
       " 'nefteyugansk',\n",
       " 'denpasar',\n",
       " 'punta arenas',\n",
       " 'songjianghe',\n",
       " 'tsihombe',\n",
       " 'upernavik',\n",
       " 'sentyabrskiy',\n",
       " 'ushuaia',\n",
       " 'hermanus',\n",
       " 'thompson',\n",
       " 'cockburn town',\n",
       " 'nuevo progreso',\n",
       " 'berlevag',\n",
       " 'dickinson',\n",
       " 'souillac',\n",
       " 'east london',\n",
       " 'arraial do cabo',\n",
       " 'gao',\n",
       " 'clyde river',\n",
       " 'melito di porto salvo',\n",
       " 'galveston',\n",
       " 'geraldton',\n",
       " 'albany',\n",
       " 'aasiaat',\n",
       " 'puerto ayora',\n",
       " 'maraa',\n",
       " 'sebinkarahisar',\n",
       " 'kirensk',\n",
       " 'rikitea',\n",
       " 'taolanaro',\n",
       " 'kodiak',\n",
       " 'cape town',\n",
       " 'hasaki',\n",
       " 'nerchinskiy zavod',\n",
       " 'hobart',\n",
       " 'papara',\n",
       " 'mataura',\n",
       " 'atuona',\n",
       " 'mahibadhoo',\n",
       " 'katangli',\n",
       " 'bitung',\n",
       " 'saskylakh',\n",
       " 'hurricane',\n",
       " 'hilo',\n",
       " 'san jeronimo',\n",
       " 'umarkot',\n",
       " 'jamestown',\n",
       " 'qaqortoq',\n",
       " 'tiksi',\n",
       " 'kavaratti',\n",
       " 'aykhal',\n",
       " 'nikolskoye',\n",
       " 'gushikawa',\n",
       " 'barentsburg',\n",
       " 'kristiinankaupunki',\n",
       " 'port alfred',\n",
       " 'barrow',\n",
       " 'ilulissat',\n",
       " 'avarua',\n",
       " 'angoche',\n",
       " 'hovd',\n",
       " 'qaanaaq',\n",
       " 'bluff',\n",
       " 'camacha',\n",
       " 'inuvik',\n",
       " 'sept-iles',\n",
       " 'toliary',\n",
       " 'fairbanks',\n",
       " 'bandarbeyla',\n",
       " 'khatanga',\n",
       " 'acapulco',\n",
       " 'butaritari',\n",
       " 'yellowknife',\n",
       " 'voh',\n",
       " 'andenes',\n",
       " 'luderitz',\n",
       " 'cedar rapids',\n",
       " 'payyannur',\n",
       " 'port lincoln',\n",
       " 'paamiut',\n",
       " 'guerrero negro',\n",
       " 'bengkulu',\n",
       " 'okhotsk',\n",
       " 'port-cartier',\n",
       " 'dibaya',\n",
       " 'sokolskoye',\n",
       " 'lasa',\n",
       " 'kiunga',\n",
       " 'charters towers',\n",
       " 'aitape',\n",
       " 'avera',\n",
       " 'victoria',\n",
       " 'natal',\n",
       " 'olafsvik',\n",
       " 'sunamganj',\n",
       " 'bethel',\n",
       " 'nemuro',\n",
       " 'buenos aires',\n",
       " 'severo-kurilsk',\n",
       " 'illoqqortoormiut',\n",
       " 'manokwari',\n",
       " 'gornopravdinsk',\n",
       " 'bathsheba',\n",
       " 'kruisfontein',\n",
       " 'algiers',\n",
       " 'riyadh',\n",
       " 'nguiu',\n",
       " 'kalmunai',\n",
       " 'kargopol',\n",
       " 'horasan',\n",
       " 'new norfolk',\n",
       " 'minudasht',\n",
       " 'ambodifototra',\n",
       " 'najran',\n",
       " 'saint-philippe',\n",
       " 'kasongo-lunda',\n",
       " 'mecca',\n",
       " 'necochea',\n",
       " 'pinhao',\n",
       " 'roald',\n",
       " 'provideniya',\n",
       " 'batagay-alyta',\n",
       " 'san cristobal',\n",
       " 'mastung',\n",
       " 'torit',\n",
       " 'baffa',\n",
       " 'ponta do sol',\n",
       " 'ancud',\n",
       " 'arman',\n",
       " 'dikson',\n",
       " 'vaini',\n",
       " 'diffa',\n",
       " 'tukrah',\n",
       " 'harper',\n",
       " 'peniche',\n",
       " 'little current',\n",
       " 'beringovskiy',\n",
       " 'belushya guba',\n",
       " 'seoul',\n",
       " 'thunder bay',\n",
       " 'bredasdorp',\n",
       " 'fuerte olimpo',\n",
       " 'mutsamudu',\n",
       " 'dudinka',\n",
       " 'fonte boa',\n",
       " 'beliator',\n",
       " 'yeppoon',\n",
       " 'mount gambier',\n",
       " 'yiyang',\n",
       " 'faanui',\n",
       " 'matamoros',\n",
       " 'grand gaube',\n",
       " 'port elizabeth',\n",
       " 'westport',\n",
       " 'sabha',\n",
       " 'chokurdakh',\n",
       " 'sangar',\n",
       " 'saint george',\n",
       " 'altea',\n",
       " 'bambous virieux',\n",
       " 'paracuru',\n",
       " 'san jose',\n",
       " 'puerto leguizamo',\n",
       " 'samusu',\n",
       " 'sungaipenuh',\n",
       " 'pevek',\n",
       " 'mweka',\n",
       " 'honiara',\n",
       " 'lata',\n",
       " 'moose factory',\n",
       " 'ayan',\n",
       " 'katsuura',\n",
       " 'kapaa',\n",
       " 'castro',\n",
       " 'wanning',\n",
       " 'karratha',\n",
       " 'porto novo',\n",
       " 'vaitupu',\n",
       " 'rio grande',\n",
       " 'pankovka',\n",
       " 'sao filipe',\n",
       " 'oistins',\n",
       " 'payakumbuh',\n",
       " 'eureka',\n",
       " 'centralia',\n",
       " 'zeya',\n",
       " 'grand-santi',\n",
       " 'nyurba',\n",
       " 'hualmay',\n",
       " 'brae',\n",
       " 'shimoda',\n",
       " 'kaili',\n",
       " 'puerto maldonado',\n",
       " 'cabo san lucas',\n",
       " 'kibala',\n",
       " 'lagos',\n",
       " 'kasamwa',\n",
       " 'nanortalik',\n",
       " 'saldanha',\n",
       " 'chipata',\n",
       " 'mar del plata',\n",
       " 'dingle',\n",
       " 'kamina',\n",
       " 'hambantota',\n",
       " 'dubbo',\n",
       " 'mnogovershinnyy',\n",
       " 'aripuana',\n",
       " 'leh',\n",
       " 'torbay',\n",
       " 'hanna',\n",
       " 'namatanai',\n",
       " 'cap malheureux',\n",
       " 'yerbogachen',\n",
       " 'dubai',\n",
       " 'alofi',\n",
       " 'korla',\n",
       " 'am timan',\n",
       " 'isangel',\n",
       " 'norman wells',\n",
       " 'lakselv',\n",
       " 'belozerskoye',\n",
       " 'plattsburgh',\n",
       " 'ribeira grande',\n",
       " 'tual',\n",
       " 'kahului',\n",
       " 'ayer itam',\n",
       " 'metu',\n",
       " 'surt',\n",
       " 'ngukurr',\n",
       " 'mangai',\n",
       " 'tasiilaq',\n",
       " 'wilmington',\n",
       " 'mehamn',\n",
       " 'robertsport',\n",
       " 'parabel',\n",
       " 'lorengau',\n",
       " 'rutana',\n",
       " 'shizunai',\n",
       " 'nizhneyansk',\n",
       " 'fallon',\n",
       " 'amderma',\n",
       " 'xuddur',\n",
       " 'mentok',\n",
       " 'scarborough',\n",
       " 'evensk',\n",
       " 'san javier',\n",
       " 'gat',\n",
       " 'saleaula',\n",
       " 'cherskiy',\n",
       " 'nome',\n",
       " 'pipar',\n",
       " 'grand river south east',\n",
       " 'novaya igirma',\n",
       " 'verkhnevilyuysk',\n",
       " 'attawapiskat',\n",
       " 'airai',\n",
       " 'georgetown',\n",
       " 'selma',\n",
       " 'vila franca do campo',\n",
       " 'sinop',\n",
       " 'ko samui',\n",
       " 'jiaohe',\n",
       " 'burnie',\n",
       " 'pisco',\n",
       " 'saint-louis',\n",
       " 'comodoro rivadavia',\n",
       " 'los llanos de aridane',\n",
       " 'jiayuguan',\n",
       " 'doha',\n",
       " 'klyuchi',\n",
       " 'derzhavinsk',\n",
       " 'labuhan',\n",
       " 'providencia',\n",
       " 'laguna',\n",
       " 'melenci',\n",
       " 'davila',\n",
       " 'pontianak',\n",
       " 'talnakh',\n",
       " 'tahta',\n",
       " 'karatau',\n",
       " 'guru har sahai',\n",
       " 'sao joao do piaui',\n",
       " 'klaksvik',\n",
       " 'songea',\n",
       " 'uralets',\n",
       " 'kaitangata',\n",
       " 'port maria',\n",
       " 'omboue',\n",
       " 'saint-leu',\n",
       " 'nandu',\n",
       " 'pueblo nuevo',\n",
       " 'college',\n",
       " 'kawalu',\n",
       " 'puerto escondido',\n",
       " 'noumea',\n",
       " 'husavik',\n",
       " 'pangody',\n",
       " 'looc',\n",
       " 'touros',\n",
       " 'bereda',\n",
       " 'leningradskiy',\n",
       " 'monclova',\n",
       " 'mangrol',\n",
       " 'vestmannaeyjar',\n",
       " 'villarrica',\n",
       " 'pingxiang',\n",
       " 'port blair',\n",
       " 'jamame',\n",
       " 'palmer',\n",
       " 'mys shmidta',\n",
       " 'monrovia',\n",
       " 'eregli',\n",
       " 'auki',\n",
       " 'mitsamiouli',\n",
       " 'rantepao',\n",
       " 'bose',\n",
       " 'boende',\n",
       " 'cidreira',\n",
       " 'haapiti',\n",
       " 'corcoran',\n",
       " 'sechura',\n",
       " 'taoudenni',\n",
       " 'shelburne',\n",
       " 'mackay',\n",
       " 'bacalar',\n",
       " 'weligama',\n",
       " 'sibolga',\n",
       " 'tlahualilo',\n",
       " 'manaia',\n",
       " 'zigong',\n",
       " 'portree',\n",
       " 'antofagasta',\n",
       " 'sabang',\n",
       " 'taketa',\n",
       " 'rincon',\n",
       " 'cabedelo',\n",
       " 'podor',\n",
       " 'zorritos',\n",
       " 'panzhihua',\n",
       " 'parana',\n",
       " 'galesong',\n",
       " 'baruun-urt',\n",
       " 'perelyub',\n",
       " 'ust-tsilma',\n",
       " 'oksfjord',\n",
       " 'san quintin',\n",
       " 'bonavista',\n",
       " 'marzuq',\n",
       " 'padang',\n",
       " 'ketchikan',\n",
       " 'amga',\n",
       " 'mikhaylovka',\n",
       " 'jalu',\n",
       " 'nantucket',\n",
       " 'waingapu',\n",
       " 'pindiga',\n",
       " 'sao bernardo',\n",
       " 'yulara',\n",
       " 'boa vista',\n",
       " 'hervey bay',\n",
       " 'tortoli',\n",
       " 'hithadhoo',\n",
       " 'kavieng',\n",
       " 'nuuk',\n",
       " 'amahai',\n",
       " 'armacao dos buzios',\n",
       " 'karauzyak',\n",
       " 'carnarvon',\n",
       " 'yarmouth',\n",
       " 'quatre cocos',\n",
       " 'road town',\n",
       " 'mandalgovi',\n",
       " 'narsaq',\n",
       " 'palana',\n",
       " 'yialos',\n",
       " 'novikovo',\n",
       " 'san patricio',\n",
       " 'pasni',\n",
       " 'coihaique',\n",
       " 'bonthe',\n",
       " 'abu kamal',\n",
       " 'lompoc',\n",
       " 'vardo',\n",
       " 'liaozhong',\n",
       " 'amargosa',\n",
       " 'taksimo',\n",
       " 'san luis',\n",
       " 'palma del rio',\n",
       " 'mahebourg',\n",
       " 'khani',\n",
       " 'lima',\n",
       " 'sid',\n",
       " 'yakeshi',\n",
       " 'constitucion',\n",
       " 'fortuna',\n",
       " 'lavrentiya',\n",
       " 'kamenka',\n",
       " 'daru',\n",
       " 'sao miguel do araguaia',\n",
       " 'smolenka',\n",
       " 'chimbote',\n",
       " 'henties bay',\n",
       " 'altay',\n",
       " 'koroni',\n",
       " 'villa maria',\n",
       " 'kamaishi',\n",
       " 'komsomolets',\n",
       " 'hobyo',\n",
       " 'amapa',\n",
       " 'inhambane',\n",
       " 'itupiranga',\n",
       " 'sitka',\n",
       " 'alice springs',\n",
       " 'tuatapere',\n",
       " 'teluk intan',\n",
       " 'vostok',\n",
       " 'nexo',\n",
       " 'kerzhenets',\n",
       " 'iqaluit',\n",
       " 'mandiana',\n",
       " 'namibe',\n",
       " 'bambanglipuro',\n",
       " 'voyinka',\n",
       " 'arroyo',\n",
       " 'rio gallegos',\n",
       " 'komsomolskiy',\n",
       " 'waipawa',\n",
       " 'krasnotorka',\n",
       " 'celestun',\n",
       " 'karkaralinsk',\n",
       " 'margate',\n",
       " 'goderich',\n",
       " 'kirakira',\n",
       " 'rawson',\n",
       " 'austin',\n",
       " 'salalah',\n",
       " 'liverpool',\n",
       " 'forrest city',\n",
       " 'svetlaya',\n",
       " 'buritizeiro',\n",
       " 'marshall',\n",
       " 'sinnamary',\n",
       " 'saint-francois',\n",
       " 'salinopolis',\n",
       " 'skagen',\n",
       " 'haibowan',\n",
       " 'oktyabrskiy',\n",
       " 'tautira',\n",
       " 'banda aceh',\n",
       " 'grand bank',\n",
       " 'enid',\n",
       " 'port macquarie',\n",
       " 'oussouye',\n",
       " 'urumqi',\n",
       " 'akhisar',\n",
       " 'sur',\n",
       " 'aksay',\n",
       " 'sharjah',\n",
       " 'feijo',\n",
       " 'opuwo',\n",
       " 'kloulklubed',\n",
       " 'san pedro',\n",
       " 'penzance',\n",
       " 'wajima',\n",
       " 'broome',\n",
       " 'coquimbo',\n",
       " 'petrozavodsk',\n",
       " 'kollumerland',\n",
       " 'chicama',\n",
       " 'meulaboh',\n",
       " 'maragogi',\n",
       " 'naze',\n",
       " 'gigmoto',\n",
       " 'batie',\n",
       " 'iskateley',\n",
       " 'burica',\n",
       " 'agadez',\n",
       " 'santa maria',\n",
       " 'caravelas',\n",
       " 'asau',\n",
       " 'tashtagol',\n",
       " 'chuy',\n",
       " 'beloha',\n",
       " 'hokitika',\n",
       " 'codajas',\n",
       " 'buraydah',\n",
       " 'hun',\n",
       " 'longyearbyen',\n",
       " 'takaungu',\n",
       " 'puerto del rosario',\n",
       " 'kralendijk',\n",
       " 'tura',\n",
       " 'tucurui',\n",
       " 'hofn',\n",
       " 'san pedro de uraba',\n",
       " 'yomitan',\n",
       " 'nagato',\n",
       " 'birao',\n",
       " 'bolshaya vishera',\n",
       " 'maniitsoq',\n",
       " 'touho',\n",
       " 'poum',\n",
       " 'chapadinha',\n",
       " 'madhupur',\n",
       " 'zhigansk',\n",
       " 'tilichiki',\n",
       " 'aquiraz',\n",
       " 'plettenberg bay',\n",
       " 'sobolevo',\n",
       " 'ozernovskiy',\n",
       " 'kletnya',\n",
       " 'durban',\n",
       " 'mariestad',\n",
       " 'dolbeau',\n",
       " 'ukiah',\n",
       " 'tallahassee',\n",
       " 'dumas',\n",
       " 'port hedland',\n",
       " 'shu',\n",
       " 'quimper',\n",
       " 'marquette',\n",
       " 'shakawe',\n",
       " 'koscierzyna',\n",
       " 'nizwa',\n",
       " 'esperance',\n",
       " 'berezovyy',\n",
       " 'loknya',\n",
       " 'garbolovo',\n",
       " 'turukhansk',\n",
       " 'banepa',\n",
       " 'tsagan aman',\n",
       " 'jiddah',\n",
       " 'bria',\n",
       " 'kimbe',\n",
       " 'bubaque',\n",
       " 'bastia',\n",
       " 'sambava',\n",
       " 'bodden town',\n",
       " 'karaul',\n",
       " 'dunedin',\n",
       " 'leo',\n",
       " 'kupang',\n",
       " 'bulgan',\n",
       " 'ojinaga',\n",
       " 'chakwal',\n",
       " 'danjiangkou',\n",
       " 'pampa',\n",
       " 'umm lajj',\n",
       " 'anloga',\n",
       " 'baykit',\n",
       " 'barra do garcas',\n",
       " 'kamiiso',\n",
       " 'batemans bay',\n",
       " 'gorokhovets',\n",
       " 'venice',\n",
       " 'mugur-aksy',\n",
       " 'forestville',\n",
       " 'hirson',\n",
       " 'ropczyce',\n",
       " 'tocopilla',\n",
       " 'whitehorse',\n",
       " 'moussoro',\n",
       " 'bilma',\n",
       " 'omsukchan',\n",
       " 'mandera',\n",
       " 'xadani',\n",
       " 'leshukonskoye',\n",
       " 'cayenne',\n",
       " 'silca',\n",
       " 'fernandez',\n",
       " 'havre-saint-pierre',\n",
       " 'villacarrillo',\n",
       " 'majene',\n",
       " 'srednekolymsk',\n",
       " 'karpathos',\n",
       " 'kankan',\n",
       " 'lar gerd',\n",
       " 'mogadishu',\n",
       " 'maskinonge',\n",
       " 'zyryanka',\n",
       " 'moree',\n",
       " 'clarence town',\n",
       " 'mocambique',\n",
       " 'qiyang',\n",
       " 'egvekinot',\n",
       " 'yaring',\n",
       " 'taonan',\n",
       " 'alpena',\n",
       " 'maarianhamina',\n",
       " 'lagoa',\n",
       " 'badou',\n",
       " 'fort morgan',\n",
       " 'taga',\n",
       " 'kot diji',\n",
       " 'novoagansk',\n",
       " 'nyrob',\n",
       " 'sandusky',\n",
       " 'kawana waters',\n",
       " 'bridlington',\n",
       " 'humboldt',\n",
       " 'divnomorskoye',\n",
       " 'yenagoa',\n",
       " 'putina',\n",
       " 'hellendoorn',\n",
       " 'menongue',\n",
       " 'rockland',\n",
       " 'sanmenxia',\n",
       " 'soria',\n",
       " 'serabu',\n",
       " 'gura teghii',\n",
       " 'sola',\n",
       " 'ust-kamchatsk',\n",
       " 'kharan',\n",
       " 'obluche',\n",
       " 'trelew',\n",
       " 'veraval',\n",
       " 'zambrow',\n",
       " 'marawi',\n",
       " 'takoradi']"
      ]
     },
     "execution_count": 3,
     "metadata": {},
     "output_type": "execute_result"
    }
   ],
   "source": [
    "cities"
   ]
  },
  {
   "cell_type": "code",
   "execution_count": 5,
   "metadata": {
    "scrolled": true
   },
   "outputs": [
    {
     "name": "stdout",
     "output_type": "stream",
     "text": [
      "Busselton\n",
      "Pallasovka\n",
      "Lebu\n",
      "Tuktoyaktuk\n",
      "Düzce\n",
      "Hunchun\n",
      "Pangnirtung\n",
      "Nefteyugansk\n",
      "Denpasar\n",
      "Punta Arenas\n",
      "Songjianghe\n"
     ]
    },
    {
     "ename": "KeyError",
     "evalue": "'name'",
     "output_type": "error",
     "traceback": [
      "\u001b[0;31m---------------------------------------------------------------------------\u001b[0m",
      "\u001b[0;31mKeyError\u001b[0m                                  Traceback (most recent call last)",
      "Input \u001b[0;32mIn [5]\u001b[0m, in \u001b[0;36m<cell line: 35>\u001b[0;34m()\u001b[0m\n\u001b[1;32m     38\u001b[0m response \u001b[38;5;241m=\u001b[39m requests\u001b[38;5;241m.\u001b[39mget(query_url \u001b[38;5;241m+\u001b[39m city)\u001b[38;5;241m.\u001b[39mjson()\n\u001b[1;32m     40\u001b[0m \u001b[38;5;66;03m#append different variables \u001b[39;00m\n\u001b[0;32m---> 41\u001b[0m city_name\u001b[38;5;241m.\u001b[39mappend(\u001b[43mresponse\u001b[49m\u001b[43m[\u001b[49m\u001b[38;5;124;43m'\u001b[39;49m\u001b[38;5;124;43mname\u001b[39;49m\u001b[38;5;124;43m'\u001b[39;49m\u001b[43m]\u001b[49m)\n\u001b[1;32m     43\u001b[0m lat\u001b[38;5;241m.\u001b[39mappend(response[\u001b[38;5;124m'\u001b[39m\u001b[38;5;124mcoord\u001b[39m\u001b[38;5;124m'\u001b[39m][\u001b[38;5;124m'\u001b[39m\u001b[38;5;124mlat\u001b[39m\u001b[38;5;124m'\u001b[39m])\n\u001b[1;32m     45\u001b[0m lng\u001b[38;5;241m.\u001b[39mappend(response[\u001b[38;5;124m'\u001b[39m\u001b[38;5;124mcoord\u001b[39m\u001b[38;5;124m'\u001b[39m][\u001b[38;5;124m'\u001b[39m\u001b[38;5;124mlon\u001b[39m\u001b[38;5;124m'\u001b[39m])\n",
      "\u001b[0;31mKeyError\u001b[0m: 'name'"
     ]
    }
   ],
   "source": [
    "#url\n",
    "url = 'https://api.openweathermap.org/data/2.5/weather?'\n",
    "units = 'metric'\n",
    "\n",
    "\n",
    "#build query\n",
    "# query_url = url + 'q=' + city + '&appid=' + api_key\n",
    "\n",
    "query_url = f'{url}appid={api_key}&units={units}&q='\n",
    "\n",
    "\n",
    "# request = requests.get(query_url)\n",
    "# request = request.json()\n",
    "\n",
    "# request\n",
    "\n",
    "\n",
    "\n",
    "#set up lists to hold response info\n",
    "city_name = []\n",
    "lng = []\n",
    "lat = []\n",
    "temp_max = []\n",
    "humid = []\n",
    "cloudiness = []\n",
    "winds = []\n",
    "countries =[]\n",
    "date = []\n",
    "city_data = []\n",
    "\n",
    "\n",
    "# # # #loop through the list of cities and prform a request for data on each\n",
    "for city in cities:\n",
    "    \n",
    "      #create the request, get response\n",
    "        response = requests.get(query_url + city).json()\n",
    "           \n",
    "        #append different variables \n",
    "        city_name.append(response['name'])\n",
    "        \n",
    "        lat.append(response['coord']['lat'])\n",
    "        \n",
    "        lng.append(response['coord']['lon'])\n",
    "        \n",
    "        temp_max.append(response['main']['temp_max'])\n",
    "        \n",
    "        humid.append(response['main']['humidity'])\n",
    "\n",
    "        cloudiness.append(response['clouds']['all'])\n",
    "        \n",
    "        winds.append(response['wind']['speed'])\n",
    "\n",
    "        countries.append(response['sys']['country'])\n",
    "\n",
    "        date.append(response['dt'])\n",
    "        \n",
    "        print(response['name'])\n",
    "\n",
    "# print(f\"The latitude information received is: {lng}\")\n",
    "# print(f\"The temperature information received is: {lat}\")\n",
    "# print(f\"The latitude information received is: {temp_min}\")\n",
    "# print(f\"The temperature information received is: {temp_max}\")\n",
    "# print(f\"The latitude information received is: {humid}\")\n",
    "# print(f\"The temperature information received is: {winds}\")\n",
    "# print(f\"The latitude information received is: {clouds}\")\n",
    "\n",
    "\n",
    "\n",
    "\n",
    "\n"
   ]
  },
  {
   "cell_type": "markdown",
   "metadata": {},
   "source": [
    "### Convert Raw Data to DataFrame\n",
    "* Export the city data into a .csv.\n",
    "* Display the DataFrame"
   ]
  },
  {
   "cell_type": "code",
   "execution_count": 6,
   "metadata": {},
   "outputs": [],
   "source": [
    "#created dataframe\n",
    "\n",
    "the_weather_df = pd.DataFrame({'City': city_name,\n",
    "                               'Lat': lat,\n",
    "                               'Lng': lng,\n",
    "                               'Max Temp':temp_max,\n",
    "                               'Humidity':humid,\n",
    "                               'Wind': winds,\n",
    "                               'Cloudiness': cloudiness,\n",
    "                               'Country':countries,\n",
    "                               'Date':date})\n",
    "\n",
    "the_weather_df\n",
    "#saved data to csv\n",
    "the_weather_df.to_csv('BB_Homework.csv')\n"
   ]
  },
  {
   "cell_type": "code",
   "execution_count": 7,
   "metadata": {},
   "outputs": [
    {
     "data": {
      "text/html": [
       "<div>\n",
       "<style scoped>\n",
       "    .dataframe tbody tr th:only-of-type {\n",
       "        vertical-align: middle;\n",
       "    }\n",
       "\n",
       "    .dataframe tbody tr th {\n",
       "        vertical-align: top;\n",
       "    }\n",
       "\n",
       "    .dataframe thead th {\n",
       "        text-align: right;\n",
       "    }\n",
       "</style>\n",
       "<table border=\"1\" class=\"dataframe\">\n",
       "  <thead>\n",
       "    <tr style=\"text-align: right;\">\n",
       "      <th></th>\n",
       "      <th>City</th>\n",
       "      <th>Lat</th>\n",
       "      <th>Lng</th>\n",
       "      <th>Max Temp</th>\n",
       "      <th>Humidity</th>\n",
       "      <th>Wind</th>\n",
       "      <th>Cloudiness</th>\n",
       "      <th>Country</th>\n",
       "      <th>Date</th>\n",
       "    </tr>\n",
       "  </thead>\n",
       "  <tbody>\n",
       "    <tr>\n",
       "      <th>0</th>\n",
       "      <td>Busselton</td>\n",
       "      <td>-33.6500</td>\n",
       "      <td>115.3333</td>\n",
       "      <td>14.02</td>\n",
       "      <td>82</td>\n",
       "      <td>5.08</td>\n",
       "      <td>99</td>\n",
       "      <td>AU</td>\n",
       "      <td>1666637094</td>\n",
       "    </tr>\n",
       "    <tr>\n",
       "      <th>1</th>\n",
       "      <td>Pallasovka</td>\n",
       "      <td>50.0500</td>\n",
       "      <td>46.8833</td>\n",
       "      <td>8.70</td>\n",
       "      <td>98</td>\n",
       "      <td>2.54</td>\n",
       "      <td>100</td>\n",
       "      <td>RU</td>\n",
       "      <td>1666636904</td>\n",
       "    </tr>\n",
       "    <tr>\n",
       "      <th>2</th>\n",
       "      <td>Lebu</td>\n",
       "      <td>-37.6167</td>\n",
       "      <td>-73.6500</td>\n",
       "      <td>14.46</td>\n",
       "      <td>75</td>\n",
       "      <td>3.81</td>\n",
       "      <td>7</td>\n",
       "      <td>CL</td>\n",
       "      <td>1666636831</td>\n",
       "    </tr>\n",
       "    <tr>\n",
       "      <th>3</th>\n",
       "      <td>Tuktoyaktuk</td>\n",
       "      <td>69.4541</td>\n",
       "      <td>-133.0374</td>\n",
       "      <td>-10.00</td>\n",
       "      <td>79</td>\n",
       "      <td>2.06</td>\n",
       "      <td>75</td>\n",
       "      <td>CA</td>\n",
       "      <td>1666637095</td>\n",
       "    </tr>\n",
       "    <tr>\n",
       "      <th>4</th>\n",
       "      <td>Düzce</td>\n",
       "      <td>40.8389</td>\n",
       "      <td>31.1639</td>\n",
       "      <td>14.39</td>\n",
       "      <td>75</td>\n",
       "      <td>1.68</td>\n",
       "      <td>0</td>\n",
       "      <td>TR</td>\n",
       "      <td>1666637095</td>\n",
       "    </tr>\n",
       "  </tbody>\n",
       "</table>\n",
       "</div>"
      ],
      "text/plain": [
       "          City      Lat       Lng  Max Temp  Humidity  Wind  Cloudiness  \\\n",
       "0    Busselton -33.6500  115.3333     14.02        82  5.08          99   \n",
       "1   Pallasovka  50.0500   46.8833      8.70        98  2.54         100   \n",
       "2         Lebu -37.6167  -73.6500     14.46        75  3.81           7   \n",
       "3  Tuktoyaktuk  69.4541 -133.0374    -10.00        79  2.06          75   \n",
       "4        Düzce  40.8389   31.1639     14.39        75  1.68           0   \n",
       "\n",
       "  Country        Date  \n",
       "0      AU  1666637094  \n",
       "1      RU  1666636904  \n",
       "2      CL  1666636831  \n",
       "3      CA  1666637095  \n",
       "4      TR  1666637095  "
      ]
     },
     "execution_count": 7,
     "metadata": {},
     "output_type": "execute_result"
    }
   ],
   "source": [
    "the_weather_df.head()"
   ]
  },
  {
   "cell_type": "markdown",
   "metadata": {},
   "source": [
    "## Inspect the data and remove the cities where the humidity > 100%.\n",
    "----\n",
    "Skip this step if there are no cities that have humidity > 100%. "
   ]
  },
  {
   "cell_type": "code",
   "execution_count": 8,
   "metadata": {},
   "outputs": [
    {
     "data": {
      "text/html": [
       "<div>\n",
       "<style scoped>\n",
       "    .dataframe tbody tr th:only-of-type {\n",
       "        vertical-align: middle;\n",
       "    }\n",
       "\n",
       "    .dataframe tbody tr th {\n",
       "        vertical-align: top;\n",
       "    }\n",
       "\n",
       "    .dataframe thead th {\n",
       "        text-align: right;\n",
       "    }\n",
       "</style>\n",
       "<table border=\"1\" class=\"dataframe\">\n",
       "  <thead>\n",
       "    <tr style=\"text-align: right;\">\n",
       "      <th></th>\n",
       "      <th>City</th>\n",
       "      <th>Lat</th>\n",
       "      <th>Lng</th>\n",
       "      <th>Max Temp</th>\n",
       "      <th>Humidity</th>\n",
       "      <th>Wind</th>\n",
       "      <th>Cloudiness</th>\n",
       "      <th>Country</th>\n",
       "      <th>Date</th>\n",
       "    </tr>\n",
       "  </thead>\n",
       "  <tbody>\n",
       "  </tbody>\n",
       "</table>\n",
       "</div>"
      ],
      "text/plain": [
       "Empty DataFrame\n",
       "Columns: [City, Lat, Lng, Max Temp, Humidity, Wind, Cloudiness, Country, Date]\n",
       "Index: []"
      ]
     },
     "execution_count": 8,
     "metadata": {},
     "output_type": "execute_result"
    }
   ],
   "source": [
    "#used this to find all the cities where 'Humidity' is greater than [xyz] \n",
    "the_weather_df.loc[the_weather_df['Humidity']>100]\n"
   ]
  },
  {
   "cell_type": "code",
   "execution_count": null,
   "metadata": {},
   "outputs": [],
   "source": [
    "#get the indices of cities that have humidity over 100%.\n"
   ]
  },
  {
   "cell_type": "code",
   "execution_count": null,
   "metadata": {},
   "outputs": [],
   "source": [
    "#make a new DataFrame equal to the city data to drop all humidity outliers by index.\n",
    "#passing \"inplace=False\" will make a copy of the city_data DataFrame, which we call \"clean_city_data\".\n"
   ]
  },
  {
   "cell_type": "code",
   "execution_count": null,
   "metadata": {},
   "outputs": [],
   "source": [
    "\n"
   ]
  },
  {
   "cell_type": "markdown",
   "metadata": {},
   "source": [
    "## Plotting the Data\n",
    "* Use proper labeling of the plots using plot titles (including date of analysis) and axes labels.\n",
    "* Save the plotted figures as .pngs."
   ]
  },
  {
   "cell_type": "markdown",
   "metadata": {},
   "source": [
    "## Latitude vs. Temperature Plot"
   ]
  },
  {
   "cell_type": "code",
   "execution_count": 9,
   "metadata": {
    "scrolled": true
   },
   "outputs": [
    {
     "data": {
      "image/png": "[encoded data removed]",
      "text/plain": [
       "<Figure size 432x288 with 1 Axes>"
      ]
     },
     "metadata": {
      "needs_background": "light"
     },
     "output_type": "display_data"
    }
   ],
   "source": [
    "#create scatter plot for Lat vs Temp.\n",
    "\n",
    "\n",
    "plt.scatter(the_weather_df['Lat'],\n",
    "            the_weather_df['Max Temp'],\n",
    "            marker=\"o\", facecolors=\"red\", \n",
    "            edgecolors=\"black\")                                                            \n",
    "\n",
    "plt.title('Latitude vs. Temperature')\n",
    "plt.xlabel('Latitude')\n",
    "plt.ylabel('Temperature (F)')\n",
    "plt.savefig('Homework_6')\n",
    "plt.show()\n",
    "\n",
    "\n"
   ]
  },
  {
   "cell_type": "markdown",
   "metadata": {},
   "source": [
    "## Latitude vs. Humidity Plot"
   ]
  },
  {
   "cell_type": "code",
   "execution_count": 10,
   "metadata": {},
   "outputs": [
    {
     "data": {
      "image/png": "[encoded data removed]",
      "text/plain": [
       "<Figure size 432x288 with 1 Axes>"
      ]
     },
     "metadata": {
      "needs_background": "light"
     },
     "output_type": "display_data"
    }
   ],
   "source": [
    "#create scatter plot for Lat vs Humidity.\n",
    "\n",
    "\n",
    "plt.scatter(the_weather_df['Lat'],\n",
    "            the_weather_df['Humidity'],\n",
    "            marker=\"o\", facecolors=\"red\", \n",
    "            edgecolors=\"black\")                                                            \n",
    "\n",
    "plt.title('Latitude vs. Humidity')\n",
    "plt.xlabel('Latitude')\n",
    "plt.ylabel('Humidity')\n",
    "plt.savefig('Latitude_vs_Humidity.png')\n",
    "plt.show()\n"
   ]
  },
  {
   "cell_type": "markdown",
   "metadata": {},
   "source": [
    "## Latitude vs. Cloudiness Plot"
   ]
  },
  {
   "cell_type": "code",
   "execution_count": 11,
   "metadata": {},
   "outputs": [
    {
     "data": {
      "image/png": "[encoded data removed]",
      "text/plain": [
       "<Figure size 432x288 with 1 Axes>"
      ]
     },
     "metadata": {
      "needs_background": "light"
     },
     "output_type": "display_data"
    }
   ],
   "source": [
    "#create scatter plot for Lat vs Cloudiness.\n",
    "\n",
    "\n",
    "plt.scatter(the_weather_df['Lat'],\n",
    "            the_weather_df['Cloudiness'],\n",
    "            marker=\"o\", facecolors=\"red\", \n",
    "            edgecolors=\"black\")                                                            \n",
    "\n",
    "plt.title('Latitude vs. Cloudiness')\n",
    "plt.xlabel('Latitude')\n",
    "plt.ylabel('Cloudiness')\n",
    "plt.savefig('Latitude_vs_Cloudiness.png')\n",
    "plt.show()\n"
   ]
  },
  {
   "cell_type": "markdown",
   "metadata": {},
   "source": [
    "## Latitude vs. Wind Speed Plot"
   ]
  },
  {
   "cell_type": "code",
   "execution_count": 12,
   "metadata": {},
   "outputs": [
    {
     "data": {
      "image/png": "[encoded data removed]",
      "text/plain": [
       "<Figure size 432x288 with 1 Axes>"
      ]
     },
     "metadata": {
      "needs_background": "light"
     },
     "output_type": "display_data"
    }
   ],
   "source": [
    "#create scatter plot for Lat vs Wind Speed Plot.\n",
    "\n",
    "\n",
    "plt.scatter(the_weather_df['Lat'],\n",
    "            the_weather_df['Wind'],\n",
    "            marker=\"o\", facecolors=\"red\", \n",
    "            edgecolors=\"black\")                                                            \n",
    "\n",
    "plt.title('Latitude vs. Wind')\n",
    "plt.xlabel('Latitude')\n",
    "plt.ylabel('Wind')\n",
    "plt.savefig('Latitude_vs_Wind.png')\n",
    "plt.show()"
   ]
  },
  {
   "cell_type": "markdown",
   "metadata": {},
   "source": [
    "## Linear Regression"
   ]
  },
  {
   "cell_type": "code",
   "execution_count": 13,
   "metadata": {},
   "outputs": [],
   "source": [
    "#create North Hemisphere Dataframe\n",
    "north_hem = the_weather_df.loc[the_weather_df['Lat'] >= 0]"
   ]
  },
  {
   "cell_type": "code",
   "execution_count": 14,
   "metadata": {},
   "outputs": [],
   "source": [
    "#create South Hemisphere Dataframe\n",
    "south_hem = the_weather_df.loc[the_weather_df['Lat'] <= 0]"
   ]
  },
  {
   "cell_type": "markdown",
   "metadata": {},
   "source": [
    "####  Northern Hemisphere - Max Temp vs. Latitude Linear Regression"
   ]
  },
  {
   "cell_type": "code",
   "execution_count": 15,
   "metadata": {},
   "outputs": [
    {
     "name": "stdout",
     "output_type": "stream",
     "text": [
      "The r-squared is: 0.4406432605217695\n"
     ]
    },
    {
     "data": {
      "image/png": "[encoded data removed]",
      "text/plain": [
       "<Figure size 432x288 with 1 Axes>"
      ]
     },
     "metadata": {
      "needs_background": "light"
     },
     "output_type": "display_data"
    }
   ],
   "source": [
    "#created scatter plot for Max Temp vs. Latitude Linear Regression\n",
    "\n",
    "x_values = north_hem['Max Temp']\n",
    "y_values = north_hem['Lat']\n",
    "(slope, intercept, rvalue, pvalue, stderr) = linregress(x_values, y_values)\n",
    "regress_values = x_values * slope + intercept\n",
    "line_eq = \"y = \" + str(round(slope,2)) + \"x + \" + str(round(intercept,2))\n",
    "plt.scatter(x_values,y_values)\n",
    "plt.plot(x_values,regress_values,\"r-\")\n",
    "plt.annotate(line_eq,(0,50),fontsize=15,color=\"red\")\n",
    "plt.title('Northern Hemisphere- Max Temp vs. Latitude Linear Regression')\n",
    "plt.xlabel('Max Temp')\n",
    "plt.ylabel('Latitude')\n",
    "print(f\"The r-squared is: {rvalue**2}\")\n",
    "plt.savefig('Northern Hemisphere Max Temp vs Lat.png')\n",
    "plt.show()"
   ]
  },
  {
   "cell_type": "markdown",
   "metadata": {},
   "source": [
    "####  Southern Hemisphere - Max Temp vs. Latitude Linear Regression"
   ]
  },
  {
   "cell_type": "code",
   "execution_count": 16,
   "metadata": {},
   "outputs": [
    {
     "name": "stdout",
     "output_type": "stream",
     "text": [
      "The r-squared is: 0.9527025199080331\n"
     ]
    },
    {
     "data": {
      "image/png": "[encoded data removed]",
      "text/plain": [
       "<Figure size 432x288 with 1 Axes>"
      ]
     },
     "metadata": {
      "needs_background": "light"
     },
     "output_type": "display_data"
    }
   ],
   "source": [
    "#created scatter plot for Max Temp vs. Latitude Linear Regression\n",
    "\n",
    "x_values = south_hem['Max Temp']\n",
    "y_values = south_hem['Lat']\n",
    "(slope, intercept, rvalue, pvalue, stderr) = linregress(x_values, y_values)\n",
    "regress_values = x_values * slope + intercept\n",
    "line_eq = \"y = \" + str(round(slope,2)) + \"x + \" + str(round(intercept,2))\n",
    "plt.scatter(x_values,y_values)\n",
    "plt.plot(x_values,regress_values,\"r-\")\n",
    "plt.annotate(line_eq,(0,50),fontsize=15,color=\"red\")\n",
    "plt.title('Southern Hemisphere- Max Temp vs. Latitude Linear Regression')\n",
    "plt.xlabel('Max Temp')\n",
    "plt.ylabel('Latitude')\n",
    "print(f\"The r-squared is: {rvalue**2}\")\n",
    "plt.savefig('Southern Hemisphere Max Temp vs Lat.png')\n",
    "plt.show()"
   ]
  },
  {
   "cell_type": "markdown",
   "metadata": {},
   "source": [
    "####  Northern Hemisphere - Humidity (%) vs. Latitude Linear Regression"
   ]
  },
  {
   "cell_type": "code",
   "execution_count": 17,
   "metadata": {},
   "outputs": [
    {
     "name": "stdout",
     "output_type": "stream",
     "text": [
      "The r-squared is: 0.4406432605217695\n"
     ]
    },
    {
     "data": {
      "image/png": "[encoded data removed]",
      "text/plain": [
       "<Figure size 432x288 with 1 Axes>"
      ]
     },
     "metadata": {
      "needs_background": "light"
     },
     "output_type": "display_data"
    }
   ],
   "source": [
    "#created scatter plot for Humidity vs. Latitude Linear Regression\n",
    "\n",
    "x_values = north_hem['Max Temp']\n",
    "y_values = north_hem['Lat']\n",
    "(slope, intercept, rvalue, pvalue, stderr) = linregress(x_values, y_values)\n",
    "regress_values = x_values * slope + intercept\n",
    "line_eq = \"y = \" + str(round(slope,2)) + \"x + \" + str(round(intercept,2))\n",
    "plt.scatter(x_values,y_values)\n",
    "plt.plot(x_values,regress_values,\"r-\")\n",
    "plt.annotate(line_eq,(0,50),fontsize=15,color=\"red\")\n",
    "plt.title('Northern Hemisphere- Max Temp vs. Latitude Linear Regression')\n",
    "plt.xlabel('Humidity  (%)')\n",
    "plt.ylabel('Latitude')\n",
    "print(f\"The r-squared is: {rvalue**2}\")\n",
    "plt.savefig('Northern Hemisphere Humidity vs Lat.png')\n",
    "plt.show()"
   ]
  },
  {
   "cell_type": "markdown",
   "metadata": {},
   "source": [
    "####  Southern Hemisphere - Humidity (%) vs. Latitude Linear Regression"
   ]
  },
  {
   "cell_type": "code",
   "execution_count": 18,
   "metadata": {},
   "outputs": [
    {
     "name": "stdout",
     "output_type": "stream",
     "text": [
      "The r-squared is: 0.7973151884443461\n"
     ]
    },
    {
     "data": {
      "image/png": "[encoded data removed]",
      "text/plain": [
       "<Figure size 432x288 with 1 Axes>"
      ]
     },
     "metadata": {
      "needs_background": "light"
     },
     "output_type": "display_data"
    }
   ],
   "source": [
    "#created scatter plot for Humidity vs. Latitude Linear Regression\n",
    "\n",
    "x_values = south_hem['Humidity']\n",
    "y_values = south_hem['Lat']\n",
    "(slope, intercept, rvalue, pvalue, stderr) = linregress(x_values, y_values)\n",
    "regress_values = x_values * slope + intercept\n",
    "line_eq = \"y = \" + str(round(slope,2)) + \"x + \" + str(round(intercept,2))\n",
    "plt.scatter(x_values,y_values)\n",
    "plt.plot(x_values,regress_values,\"r-\")\n",
    "plt.annotate(line_eq,(0,50),fontsize=15,color=\"red\")\n",
    "plt.title('Southern Hemisphere- Humidity (%) vs. Latitude Linear Regression')\n",
    "plt.xlabel('Humidity  (%)')\n",
    "plt.ylabel('Latitude')\n",
    "print(f\"The r-squared is: {rvalue**2}\")\n",
    "plt.savefig('Southern Hemisphere Humidity vs Lat.png')\n",
    "plt.show()"
   ]
  },
  {
   "cell_type": "markdown",
   "metadata": {},
   "source": [
    "####  Northern Hemisphere - Cloudiness (%) vs. Latitude Linear Regression"
   ]
  },
  {
   "cell_type": "code",
   "execution_count": 19,
   "metadata": {},
   "outputs": [
    {
     "name": "stdout",
     "output_type": "stream",
     "text": [
      "The r-squared is: 0.5783631472865753\n"
     ]
    },
    {
     "data": {
      "image/png": "[encoded data removed]",
      "text/plain": [
       "<Figure size 432x288 with 1 Axes>"
      ]
     },
     "metadata": {
      "needs_background": "light"
     },
     "output_type": "display_data"
    }
   ],
   "source": [
    "#created scatter plot for Cloudiness vs. Latitude Linear Regression\n",
    "\n",
    "x_values = north_hem['Cloudiness']\n",
    "y_values = north_hem['Lat']\n",
    "(slope, intercept, rvalue, pvalue, stderr) = linregress(x_values, y_values)\n",
    "regress_values = x_values * slope + intercept\n",
    "line_eq = \"y = \" + str(round(slope,2)) + \"x + \" + str(round(intercept,2))\n",
    "plt.scatter(x_values,y_values)\n",
    "plt.plot(x_values,regress_values,\"r-\")\n",
    "plt.annotate(line_eq,(0,50),fontsize=15,color=\"red\")\n",
    "plt.title('Northern Hemisphere- Cloudiness vs. Latitude Linear Regression')\n",
    "plt.xlabel('Cloudiness  (%)')\n",
    "plt.ylabel('Latitude')\n",
    "print(f\"The r-squared is: {rvalue**2}\")\n",
    "plt.savefig('Northern Hemisphere Cloudiness vs Lat.png')\n",
    "plt.show()"
   ]
  },
  {
   "cell_type": "markdown",
   "metadata": {},
   "source": [
    "####  Southern Hemisphere - Cloudiness (%) vs. Latitude Linear Regression"
   ]
  },
  {
   "cell_type": "code",
   "execution_count": 20,
   "metadata": {},
   "outputs": [
    {
     "name": "stdout",
     "output_type": "stream",
     "text": [
      "The r-squared is: 0.017069279087443427\n"
     ]
    },
    {
     "data": {
      "image/png": "[encoded data removed]",
      "text/plain": [
       "<Figure size 432x288 with 1 Axes>"
      ]
     },
     "metadata": {
      "needs_background": "light"
     },
     "output_type": "display_data"
    }
   ],
   "source": [
    "#created scatter plot for Cloudiness vs. Latitude Linear Regression\n",
    "\n",
    "x_values = south_hem['Cloudiness']\n",
    "y_values = south_hem['Lat']\n",
    "(slope, intercept, rvalue, pvalue, stderr) = linregress(x_values, y_values)\n",
    "regress_values = x_values * slope + intercept\n",
    "line_eq = \"y = \" + str(round(slope,2)) + \"x + \" + str(round(intercept,2))\n",
    "plt.scatter(x_values,y_values)\n",
    "plt.plot(x_values,regress_values,\"r-\")\n",
    "plt.annotate(line_eq,(0,50),fontsize=15,color=\"red\")\n",
    "plt.title('Southern Hemisphere- Cloudiness vs. Latitude Linear Regression')\n",
    "plt.xlabel('Cloudiness  (%)')\n",
    "plt.ylabel('Latitude')\n",
    "print(f\"The r-squared is: {rvalue**2}\")\n",
    "plt.savefig('Southern Hemisphere Cloudiness vs Lat.png')\n",
    "plt.show()"
   ]
  },
  {
   "cell_type": "markdown",
   "metadata": {},
   "source": [
    "####  Northern Hemisphere - Wind Speed (mph) vs. Latitude Linear Regression"
   ]
  },
  {
   "cell_type": "code",
   "execution_count": 21,
   "metadata": {},
   "outputs": [
    {
     "name": "stdout",
     "output_type": "stream",
     "text": [
      "The r-squared is: 0.3963569791591892\n"
     ]
    },
    {
     "data": {
      "image/png": "[encoded data removed]",
      "text/plain": [
       "<Figure size 432x288 with 1 Axes>"
      ]
     },
     "metadata": {
      "needs_background": "light"
     },
     "output_type": "display_data"
    }
   ],
   "source": [
    "#created scatter plot for Wind Speed (mph) vs. Latitude Linear Regression\n",
    "\n",
    "x_values = north_hem['Wind']\n",
    "y_values = north_hem['Lat']\n",
    "(slope, intercept, rvalue, pvalue, stderr) = linregress(x_values, y_values)\n",
    "regress_values = x_values * slope + intercept\n",
    "line_eq = \"y = \" + str(round(slope,2)) + \"x + \" + str(round(intercept,2))\n",
    "plt.scatter(x_values,y_values)\n",
    "plt.plot(x_values,regress_values,\"r-\")\n",
    "plt.annotate(line_eq,(0,50),fontsize=15,color=\"red\")\n",
    "plt.title('Northern Hemisphere- Wind Speed vs. Latitude Linear Regression')\n",
    "plt.xlabel('Wind Speed (mph)')\n",
    "plt.ylabel('Latitude')\n",
    "print(f\"The r-squared is: {rvalue**2}\")\n",
    "plt.savefig('Northern Hemisphere Wind Speed vs Lat.png')\n",
    "plt.show()"
   ]
  },
  {
   "cell_type": "markdown",
   "metadata": {},
   "source": [
    "####  Southern Hemisphere - Wind Speed (mph) vs. Latitude Linear Regression"
   ]
  },
  {
   "cell_type": "code",
   "execution_count": 2,
   "metadata": {},
   "outputs": [
    {
     "ename": "NameError",
     "evalue": "name 'south_hem' is not defined",
     "output_type": "error",
     "traceback": [
      "\u001b[0;31m---------------------------------------------------------------------------\u001b[0m",
      "\u001b[0;31mNameError\u001b[0m                                 Traceback (most recent call last)",
      "Input \u001b[0;32mIn [2]\u001b[0m, in \u001b[0;36m<cell line: 3>\u001b[0;34m()\u001b[0m\n\u001b[1;32m      1\u001b[0m \u001b[38;5;66;03m#created scatter plot for Wind Speed (mph) vs. Latitude Linear Regression\u001b[39;00m\n\u001b[0;32m----> 3\u001b[0m x_values \u001b[38;5;241m=\u001b[39m \u001b[43msouth_hem\u001b[49m[\u001b[38;5;124m'\u001b[39m\u001b[38;5;124mWind\u001b[39m\u001b[38;5;124m'\u001b[39m]\n\u001b[1;32m      4\u001b[0m y_values \u001b[38;5;241m=\u001b[39m south_hem[\u001b[38;5;124m'\u001b[39m\u001b[38;5;124mLat\u001b[39m\u001b[38;5;124m'\u001b[39m]\n\u001b[1;32m      5\u001b[0m (slope, intercept, rvalue, pvalue, stderr) \u001b[38;5;241m=\u001b[39m linregress(x_values, y_values)\n",
      "\u001b[0;31mNameError\u001b[0m: name 'south_hem' is not defined"
     ]
    }
   ],
   "source": [
    "#created scatter plot for Wind Speed (mph) vs. Latitude Linear Regression\n",
    "\n",
    "x_values = south_hem['Wind']\n",
    "y_values = south_hem['Lat']\n",
    "(slope, intercept, rvalue, pvalue, stderr) = linregress(x_values, y_values)\n",
    "regress_values = x_values * slope + intercept\n",
    "line_eq = \"y = \" + str(round(slope,2)) + \"x + \" + str(round(intercept,2))\n",
    "plt.scatter(x_values,y_values)\n",
    "plt.plot(x_values,regress_values,\"r-\")\n",
    "plt.annotate(line_eq,(0,50),fontsize=15,color=\"red\")\n",
    "plt.title('Southern Hemisphere- Wind Speed vs. Latitude Linear Regression '10/24/2022')\n",
    "plt.xlabel('Wind Speed (mph)')\n",
    "plt.ylabel('Latitude')\n",
    "print(f\"The r-squared is: {rvalue**2}\")\n",
    "plt.savefig('Southern Hemisphere Wind Speed vs Lat.png')\n",
    "plt.show()"
   ]
  },
  {
   "cell_type": "code",
   "execution_count": null,
   "metadata": {},
   "outputs": [],
   "source": []
  }
 ],
 "metadata": {
  "anaconda-cloud": {},
  "kernel_info": {
   "name": "python3"
  },
  "kernelspec": {
   "display_name": "PythonData",
   "language": "python",
   "name": "pythondata"
  },
  "language_info": {
   "codemirror_mode": {
    "name": "ipython",
    "version": 3
   },
   "file_extension": ".py",
   "mimetype": "text/x-python",
   "name": "python",
   "nbconvert_exporter": "python",
   "pygments_lexer": "ipython3",
   "version": "3.9.12"
  },
  "latex_envs": {
   "LaTeX_envs_menu_present": true,
   "autoclose": false,
   "autocomplete": true,
   "bibliofile": "biblio.bib",
   "cite_by": "apalike",
   "current_citInitial": 1,
   "eqLabelWithNumbers": true,
   "eqNumInitial": 1,
   "hotkeys": {
    "equation": "Ctrl-E",
    "itemize": "Ctrl-I"
   },
   "labels_anchors": false,
   "latex_user_defs": false,
   "report_style_numbering": false,
   "user_envs_cfg": false
  },
  "nteract": {
   "version": "0.12.3"
  }
 },
 "nbformat": 4,
 "nbformat_minor": 2
}
