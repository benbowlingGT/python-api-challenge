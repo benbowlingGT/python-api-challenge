{
 "cells": [
  {
   "cell_type": "markdown",
   "metadata": {},
   "source": [
    "# WeatherPy\n",
    "----\n",
    "\n",
    "#### Note\n",
    "* Instructions have been included for each segment. You do not have to follow them exactly, but they are included to help you think through the steps."
   ]
  },
  {
   "cell_type": "code",
   "execution_count": 1,
   "metadata": {
    "scrolled": true
   },
   "outputs": [],
   "source": [
    "#Dependencies and Setup\n",
    "import matplotlib.pyplot as plt\n",
    "import pandas as pd\n",
    "import numpy as np\n",
    "import requests\n",
    "import time\n",
    "from scipy.stats import linregress\n",
    "\n",
    "#Import API key\n",
    "from api_keys import weather_api_key\n",
    "api_key = weather_api_key\n",
    "\n",
    "#Incorporated citipy to determine city based on latitude and longitude\n",
    "from citipy import citipy\n",
    "\n",
    "#Output File (CSV)\n",
    "output_data_file = \"output_data/cities.csv\"\n",
    "\n",
    "#Range of latitudes and longitudes\n",
    "lat_range = (-90, 90)\n",
    "lng_range = (-180, 180)"
   ]
  },
  {
   "cell_type": "markdown",
   "metadata": {},
   "source": [
    "## Generate Cities List"
   ]
  },
  {
   "cell_type": "code",
   "execution_count": 2,
   "metadata": {},
   "outputs": [
    {
     "data": {
      "text/plain": [
       "594"
      ]
     },
     "execution_count": 2,
     "metadata": {},
     "output_type": "execute_result"
    }
   ],
   "source": [
    "#list for holding lat_lngs and cities\n",
    "lat_lngs = []\n",
    "cities = []\n",
    "\n",
    "#Created a set of random lat and lng combinations\n",
    "lats = np.random.uniform(lat_range[0], lat_range[1], size=1500)\n",
    "lngs = np.random.uniform(lng_range[0], lng_range[1], size=1500)\n",
    "lat_lngs = zip(lats, lngs)\n",
    "\n",
    "#Identified nearest city for each lat, lng combination\n",
    "for lat_lng in lat_lngs:\n",
    "    city = citipy.nearest_city(lat_lng[0], lat_lng[1]).city_name\n",
    "    \n",
    "    # If the city is unique, then add it to a our cities list\n",
    "    if city not in cities:\n",
    "        cities.append(city)\n",
    "\n",
    "#Print the city count to confirm sufficient count\n",
    "len(cities)"
   ]
  },
  {
   "cell_type": "markdown",
   "metadata": {},
   "source": [
    "### Perform API Calls\n",
    "* Perform a weather check on each city using a series of successive API calls.\n",
    "* Include a print log of each city as it'sbeing processed (with the city number and city name).\n"
   ]
  },
  {
   "cell_type": "code",
   "execution_count": 3,
   "metadata": {},
   "outputs": [
    {
     "data": {
      "text/plain": [
       "['ixtapa',\n",
       " 'madang',\n",
       " 'esperance',\n",
       " 'ribeira grande',\n",
       " 'cabedelo',\n",
       " 'bluff',\n",
       " 'saint-pierre',\n",
       " 'taolanaro',\n",
       " 'codrington',\n",
       " 'atuona',\n",
       " 'mataura',\n",
       " 'chicama',\n",
       " 'punta arenas',\n",
       " 'hofn',\n",
       " 'cagayan de tawi-tawi',\n",
       " 'albany',\n",
       " 'illoqqortoormiut',\n",
       " 'amderma',\n",
       " 'port elizabeth',\n",
       " 'luderitz',\n",
       " 'new norfolk',\n",
       " 'katsuura',\n",
       " 'ushuaia',\n",
       " 'busselton',\n",
       " 'manchester',\n",
       " 'pisco',\n",
       " 'nikolskoye',\n",
       " 'tidore',\n",
       " 'mar del plata',\n",
       " 'cabo san lucas',\n",
       " 'arraial do cabo',\n",
       " 'grindavik',\n",
       " 'erzin',\n",
       " 'upernavik',\n",
       " 'hobart',\n",
       " 'dryden',\n",
       " 'avarua',\n",
       " 'calama',\n",
       " 'college',\n",
       " 'palmer',\n",
       " 'cidreira',\n",
       " 'hermanus',\n",
       " 'cao bang',\n",
       " 'hilo',\n",
       " 'vondrozo',\n",
       " 'east london',\n",
       " 'huarmey',\n",
       " 'aswan',\n",
       " 'tasiilaq',\n",
       " 'khatanga',\n",
       " 'pevek',\n",
       " 'weligama',\n",
       " 'springbok',\n",
       " 'manggar',\n",
       " 'broken hill',\n",
       " 'bredasdorp',\n",
       " 'ahipara',\n",
       " 'sao teotonio',\n",
       " 'kapaa',\n",
       " 'lorengau',\n",
       " 'bewar',\n",
       " 'gamboma',\n",
       " 'rochester',\n",
       " 'belushya guba',\n",
       " 'cape town',\n",
       " 'dwarka',\n",
       " 'iqaluit',\n",
       " 'krasnoselkup',\n",
       " 'tingrela',\n",
       " 'ilulissat',\n",
       " 'maribo',\n",
       " 'las vegas',\n",
       " 'tabuk',\n",
       " 'jamestown',\n",
       " 'aviles',\n",
       " 'namasuba',\n",
       " 'san andres',\n",
       " 'mahebourg',\n",
       " 'villanueva',\n",
       " 'torbay',\n",
       " 'piacabucu',\n",
       " 'isangel',\n",
       " 'belaya gora',\n",
       " 'vila franca do campo',\n",
       " 'laguna',\n",
       " 'barrow',\n",
       " 'puerto ayora',\n",
       " 'yellowknife',\n",
       " 'itoman',\n",
       " 'vaini',\n",
       " 'holme',\n",
       " 'bandarbeyla',\n",
       " 'rundu',\n",
       " 'rikitea',\n",
       " 'bethel',\n",
       " 'bengkulu',\n",
       " 'shimoda',\n",
       " 'jhanjharpur',\n",
       " 'matara',\n",
       " 'husavik',\n",
       " 'qaanaaq',\n",
       " 'soe',\n",
       " 'attawapiskat',\n",
       " 'port blair',\n",
       " 'thompson',\n",
       " 'himi',\n",
       " 'dingle',\n",
       " 'verkhoyansk',\n",
       " 'hambantota',\n",
       " 'tiksi',\n",
       " 'provideniya',\n",
       " 'lagoa',\n",
       " 'mayo',\n",
       " 'victoria',\n",
       " 'naron',\n",
       " 'loukhi',\n",
       " 'comodoro rivadavia',\n",
       " 'komsomolskiy',\n",
       " 'chokurdakh',\n",
       " 'port alfred',\n",
       " 'port hedland',\n",
       " 'wattegama',\n",
       " 'grand centre',\n",
       " 'butaritari',\n",
       " 'kodiak',\n",
       " 'parakai',\n",
       " 'sao jose da coroa grande',\n",
       " 'barentsburg',\n",
       " 'roswell',\n",
       " 'northam',\n",
       " 'kishtwar',\n",
       " 'rongcheng',\n",
       " 'narsaq',\n",
       " 'erenhot',\n",
       " 'ituni',\n",
       " 'kaitangata',\n",
       " 'santa fe',\n",
       " 'pontes e lacerda',\n",
       " 'zhezkazgan',\n",
       " 'seymchan',\n",
       " 'latung',\n",
       " 'ambilobe',\n",
       " 'barcelos',\n",
       " 'kahului',\n",
       " 'aleksandrovsk-sakhalinskiy',\n",
       " 'oyonnax',\n",
       " 'tambul',\n",
       " 'juneau',\n",
       " 'meulaboh',\n",
       " 'olinda',\n",
       " 'pacifica',\n",
       " 'dikson',\n",
       " 'bireun',\n",
       " 'caravelas',\n",
       " 'la asuncion',\n",
       " 'georgetown',\n",
       " 'evensk',\n",
       " 'guerrero negro',\n",
       " 'bathsheba',\n",
       " 'sharlyk',\n",
       " 'ohringen',\n",
       " 'tsihombe',\n",
       " 'ancud',\n",
       " 'mehamn',\n",
       " 'ubinskoye',\n",
       " 'neuquen',\n",
       " 'dingli',\n",
       " 'sentyabrskiy',\n",
       " 'sorong',\n",
       " 'cherskiy',\n",
       " 'farafangana',\n",
       " 'nanortalik',\n",
       " 'saint george',\n",
       " 'haines junction',\n",
       " 'dalbandin',\n",
       " 'asyut',\n",
       " 'sinnamary',\n",
       " 'vardo',\n",
       " 'san jose del guaviare',\n",
       " 'bantry',\n",
       " 'samarai',\n",
       " 'longyearbyen',\n",
       " 'sao filipe',\n",
       " 'tuktoyaktuk',\n",
       " 'burica',\n",
       " 'faanui',\n",
       " 'minab',\n",
       " 'kamenskoye',\n",
       " 'talcahuano',\n",
       " 'vigia',\n",
       " 'san cristobal',\n",
       " 'severo-kurilsk',\n",
       " 'saleaula',\n",
       " 'batangafo',\n",
       " 'iquique',\n",
       " 'mantua',\n",
       " 'lolua',\n",
       " 'zachagansk',\n",
       " 'sabana grande de boya',\n",
       " 'saint-philippe',\n",
       " 'ponta do sol',\n",
       " 'souillac',\n",
       " 'porto novo',\n",
       " 'kuching',\n",
       " 'samusu',\n",
       " 'havre-saint-pierre',\n",
       " 'faya',\n",
       " 'victoria point',\n",
       " 'tamandare',\n",
       " 'cayenne',\n",
       " 'tignere',\n",
       " 'los llanos de aridane',\n",
       " 'ituango',\n",
       " 'kalmanhaza',\n",
       " 'airai',\n",
       " 'labutta',\n",
       " 'castro',\n",
       " 'urucara',\n",
       " 'pangoa',\n",
       " 'mocambique',\n",
       " 'vestmannaeyjar',\n",
       " 'tessalit',\n",
       " 'beloha',\n",
       " 'carnarvon',\n",
       " 'kazachinskoye',\n",
       " 'sabang',\n",
       " 'breytovo',\n",
       " 'ko samui',\n",
       " 'kruisfontein',\n",
       " 'sangar',\n",
       " 'san patricio',\n",
       " 'zhucheng',\n",
       " 'jiazi',\n",
       " 'nador',\n",
       " 'lazaro cardenas',\n",
       " 'pokhara',\n",
       " 'kalat',\n",
       " 'labuhan',\n",
       " 'umzimvubu',\n",
       " 'upington',\n",
       " 'bintulu',\n",
       " 'fallon',\n",
       " 'sibu',\n",
       " 'ponte san nicolo',\n",
       " 'vaitupu',\n",
       " 'kearney',\n",
       " 'fengzhen',\n",
       " 'tura',\n",
       " 'najran',\n",
       " 'pangody',\n",
       " 'tacuarembo',\n",
       " 'honiara',\n",
       " 'sitka',\n",
       " 'colac',\n",
       " 'sault sainte marie',\n",
       " 'eureka',\n",
       " 'nyimba',\n",
       " 'boa vista',\n",
       " 'bambous virieux',\n",
       " 'visby',\n",
       " 'broome',\n",
       " 'umm lajj',\n",
       " 'ust-omchug',\n",
       " 'micheweni',\n",
       " 'coquimbo',\n",
       " 'nizhneyansk',\n",
       " 'kyzyl-suu',\n",
       " 'saint-georges',\n",
       " 'billings',\n",
       " 'marzuq',\n",
       " 'geraldton',\n",
       " 'korla',\n",
       " 'abha',\n",
       " 'fortuna',\n",
       " 'mys shmidta',\n",
       " 'sidi ali',\n",
       " 'kondagaon',\n",
       " 'te anau',\n",
       " 'nome',\n",
       " 'lima',\n",
       " 'sorland',\n",
       " 'sovetskiy',\n",
       " 'ranong',\n",
       " 'biak',\n",
       " 'lysa hora',\n",
       " 'ekimchan',\n",
       " 'mikuni',\n",
       " 'toora-khem',\n",
       " 'hithadhoo',\n",
       " 'puerto leguizamo',\n",
       " 'camacha',\n",
       " 'rio grande',\n",
       " 'nuevitas',\n",
       " 'lebu',\n",
       " 'okhotsk',\n",
       " 'saldanha',\n",
       " 'talnakh',\n",
       " 'pahrump',\n",
       " 'aflu',\n",
       " 'isilkul',\n",
       " 'aktau',\n",
       " 'halalo',\n",
       " 'tagab',\n",
       " 'kavieng',\n",
       " 'sydney',\n",
       " 'ponta delgada',\n",
       " 'abiy adi',\n",
       " 'awjilah',\n",
       " 'macultepec',\n",
       " 'gumushane',\n",
       " 'la libertad',\n",
       " 'pasni',\n",
       " 'hamilton',\n",
       " 'pochutla',\n",
       " 'tokmak',\n",
       " 'warrnambool',\n",
       " 'leningradskiy',\n",
       " 'zhigansk',\n",
       " 'along',\n",
       " 'nipawin',\n",
       " 'takoradi',\n",
       " 'palabuhanratu',\n",
       " 'mullaitivu',\n",
       " 'jibuti',\n",
       " 'campbell river',\n",
       " 'aksehir',\n",
       " 'kulhudhuffushi',\n",
       " 'saurimo',\n",
       " 'podor',\n",
       " 'gamba',\n",
       " 'tahta',\n",
       " 'chimbote',\n",
       " 'louisbourg',\n",
       " 'alexandria',\n",
       " 'murray bridge',\n",
       " 'yangjiang',\n",
       " 'poum',\n",
       " 'hvide sande',\n",
       " 'wajima',\n",
       " 'dolbeau',\n",
       " 'brigantine',\n",
       " 'butterworth',\n",
       " 'lavrentiya',\n",
       " 'brainerd',\n",
       " 'clonakilty',\n",
       " 'half moon bay',\n",
       " 'valls',\n",
       " 'akureyri',\n",
       " 'yining',\n",
       " 'sibanicu',\n",
       " 'beboto',\n",
       " 'portland',\n",
       " 'solnechnyy',\n",
       " 'sosnovka',\n",
       " 'volterra',\n",
       " 'avera',\n",
       " 'antofagasta',\n",
       " 'vao',\n",
       " 'carballo',\n",
       " 'otane',\n",
       " 'wuwei',\n",
       " 'mwinilunga',\n",
       " 'mirina',\n",
       " 'veraval',\n",
       " 'ola',\n",
       " 'svetlyy',\n",
       " 'bartica',\n",
       " 'tvoroyri',\n",
       " 'borgarnes',\n",
       " 'saint-leu',\n",
       " 'mandalgovi',\n",
       " 'malpe',\n",
       " 'kemijarvi',\n",
       " 'shoreview',\n",
       " 'lichtenfels',\n",
       " 'huntsville',\n",
       " 'port macquarie',\n",
       " 'temple',\n",
       " 'alofi',\n",
       " 'bonfim',\n",
       " 'chuy',\n",
       " 'tando ghulam ali',\n",
       " 'kharp',\n",
       " 'port pirie',\n",
       " 'tateyama',\n",
       " 'yeniseysk',\n",
       " 'andarab',\n",
       " 'alice springs',\n",
       " 'aljezur',\n",
       " 'port hardy',\n",
       " 'santa maria',\n",
       " 'altay',\n",
       " 'plettenberg bay',\n",
       " 'panama city',\n",
       " 'aquiraz',\n",
       " 'kieta',\n",
       " 'khowai',\n",
       " 'marquette',\n",
       " 'kuytun',\n",
       " 'verkhnyaya sinyachikha',\n",
       " 'hasaki',\n",
       " 'padang',\n",
       " 'macae',\n",
       " 'jacareacanga',\n",
       " 'wete',\n",
       " 'lata',\n",
       " 'itupiranga',\n",
       " 'andenes',\n",
       " 'saskylakh',\n",
       " 'tutoia',\n",
       " 'labuan',\n",
       " 'falmouth',\n",
       " 'jijiga',\n",
       " 'kingman',\n",
       " 'russell',\n",
       " 'moron',\n",
       " 'shubarkuduk',\n",
       " 'babanusah',\n",
       " 'collie',\n",
       " 'vanavara',\n",
       " 'keti bandar',\n",
       " 'tarudant',\n",
       " 'sokoni',\n",
       " 'mogadishu',\n",
       " 'methoni',\n",
       " 'sakaiminato',\n",
       " 'oranjemund',\n",
       " 'yar-sale',\n",
       " 'ugoofaaru',\n",
       " 'kargasok',\n",
       " 'forestville',\n",
       " 'sungai kolok',\n",
       " 'omboue',\n",
       " 'sisimiut',\n",
       " 'lyuban',\n",
       " 'yuxia',\n",
       " 'oum hadjer',\n",
       " 'zaraza',\n",
       " 'hami',\n",
       " 'karratha',\n",
       " 'goya',\n",
       " 'sakhnovshchyna',\n",
       " 'luziania',\n",
       " 'dawei',\n",
       " 'srednekolymsk',\n",
       " 'bereda',\n",
       " 'sagua la grande',\n",
       " 'santa pola',\n",
       " 'norman wells',\n",
       " 'sredniy ikorets',\n",
       " 'henties bay',\n",
       " 'narayangarh',\n",
       " 'fairbanks',\n",
       " 'promyshlennovskiy',\n",
       " 'harper',\n",
       " 'monrovia',\n",
       " 'balasheyka',\n",
       " 'mackenzie',\n",
       " 'tilichiki',\n",
       " 'qasigiannguit',\n",
       " 'ormara',\n",
       " 'celestun',\n",
       " 'indian trail',\n",
       " 'espinosa',\n",
       " 'tarko-sale',\n",
       " 'coaraci',\n",
       " 'vila velha',\n",
       " 'taburi',\n",
       " 'wanaraja',\n",
       " 'svetlaya',\n",
       " 'west wendover',\n",
       " 'bolungarvik',\n",
       " 'puri',\n",
       " 'carutapera',\n",
       " 'sabzevar',\n",
       " 'sorvag',\n",
       " 'slave lake',\n",
       " 'kamenka',\n",
       " 'imuris',\n",
       " 'vrangel',\n",
       " 'zaysan',\n",
       " 'khasan',\n",
       " 'tiarei',\n",
       " 'zhizdra',\n",
       " 'ust-ilimsk',\n",
       " 'dauphin',\n",
       " 'mount gambier',\n",
       " 'mountain home',\n",
       " 'turukhansk',\n",
       " 'lakes entrance',\n",
       " 'aklavik',\n",
       " 'dongli',\n",
       " 'prince rupert',\n",
       " 'zhanakorgan',\n",
       " 'nishihara',\n",
       " 'rocha',\n",
       " 'primo tapia',\n",
       " 'atambua',\n",
       " 'rawson',\n",
       " 'havelock',\n",
       " 'hovd',\n",
       " 'cotusca',\n",
       " 'dinghai',\n",
       " 'ballina',\n",
       " 'bokspits',\n",
       " 'campestre',\n",
       " 'qaqortoq',\n",
       " 'shemonaikha',\n",
       " 'cedar city',\n",
       " 'ryotsu',\n",
       " 'conde',\n",
       " 'cockburn town',\n",
       " 'bayonet point',\n",
       " 'hojo',\n",
       " 'capaccio',\n",
       " 'tawkar',\n",
       " 'gagra',\n",
       " 'tiznit',\n",
       " 'bontang',\n",
       " 'a',\n",
       " 'opalenica',\n",
       " 'joigny',\n",
       " 'baruun-urt',\n",
       " 'seoul',\n",
       " 'botwood',\n",
       " 'kentau',\n",
       " 'zabaykalsk',\n",
       " 'mehran',\n",
       " 'tokur',\n",
       " 'pedernales',\n",
       " 'omaha',\n",
       " 'flinders',\n",
       " 'mount isa',\n",
       " 'buique',\n",
       " 'playa vicente',\n",
       " 'svojat',\n",
       " 'brae',\n",
       " 'udachnyy',\n",
       " 'tendo',\n",
       " 'haibowan',\n",
       " 'richards bay',\n",
       " 'banda aceh',\n",
       " 'maridi',\n",
       " 'auki',\n",
       " 'sambava',\n",
       " 'malanje',\n",
       " 'mpanda',\n",
       " 'wajir',\n",
       " 'mormugao',\n",
       " 'baran',\n",
       " 'pangnirtung',\n",
       " 'tabiauea',\n",
       " 'karkaralinsk',\n",
       " 'balen',\n",
       " 'grand river south east',\n",
       " 'constitucion',\n",
       " 'murnau',\n",
       " 'oistins',\n",
       " 'chumikan',\n",
       " 'bowen',\n",
       " 'kalutara',\n",
       " 'ambovombe',\n",
       " 'stromness',\n",
       " 'mitsamiouli',\n",
       " 'jalu',\n",
       " 'chapada dos guimaraes',\n",
       " 'tezu',\n",
       " 'komsomolets',\n",
       " 'santa rita',\n",
       " 'grand-santi',\n",
       " 'salalah',\n",
       " 'abu dhabi',\n",
       " 'fort nelson',\n",
       " 'algodones',\n",
       " 'taga',\n",
       " 'presidencia roque saenz pena',\n",
       " 'abu samrah',\n",
       " 'bahia blanca',\n",
       " 'makakilo city',\n",
       " 'ongandjera',\n",
       " 'drayton valley',\n",
       " 'montego bay',\n",
       " 'olafsvik',\n",
       " 'belyy yar',\n",
       " 'tambopata',\n",
       " 'gudari',\n",
       " 'tshikapa',\n",
       " 'baghdad',\n",
       " 'marcona',\n",
       " 'benjamin constant',\n",
       " 'bubaque',\n",
       " 'armacao dos buzios',\n",
       " 'smolenka',\n",
       " 'denpasar']"
      ]
     },
     "execution_count": 3,
     "metadata": {},
     "output_type": "execute_result"
    }
   ],
   "source": [
    "cities"
   ]
  },
  {
   "cell_type": "code",
   "execution_count": 4,
   "metadata": {
    "scrolled": true
   },
   "outputs": [
    {
     "name": "stdout",
     "output_type": "stream",
     "text": [
      "Ixtapa\n",
      "Madang\n",
      "Esperance\n",
      "Ribeira Grande\n",
      "Cabedelo\n",
      "Bluff\n",
      "Saint-Pierre\n"
     ]
    },
    {
     "ename": "KeyError",
     "evalue": "'name'",
     "output_type": "error",
     "traceback": [
      "\u001b[0;31m---------------------------------------------------------------------------\u001b[0m",
      "\u001b[0;31mKeyError\u001b[0m                                  Traceback (most recent call last)",
      "Input \u001b[0;32mIn [4]\u001b[0m, in \u001b[0;36m<cell line: 21>\u001b[0;34m()\u001b[0m\n\u001b[1;32m     24\u001b[0m response \u001b[38;5;241m=\u001b[39m requests\u001b[38;5;241m.\u001b[39mget(query_url \u001b[38;5;241m+\u001b[39m city)\u001b[38;5;241m.\u001b[39mjson()\n\u001b[1;32m     26\u001b[0m \u001b[38;5;66;03m#appended the dataframe to add the variables below as columns\u001b[39;00m\n\u001b[0;32m---> 27\u001b[0m city_name\u001b[38;5;241m.\u001b[39mappend(\u001b[43mresponse\u001b[49m\u001b[43m[\u001b[49m\u001b[38;5;124;43m'\u001b[39;49m\u001b[38;5;124;43mname\u001b[39;49m\u001b[38;5;124;43m'\u001b[39;49m\u001b[43m]\u001b[49m)\n\u001b[1;32m     29\u001b[0m lat\u001b[38;5;241m.\u001b[39mappend(response[\u001b[38;5;124m'\u001b[39m\u001b[38;5;124mcoord\u001b[39m\u001b[38;5;124m'\u001b[39m][\u001b[38;5;124m'\u001b[39m\u001b[38;5;124mlat\u001b[39m\u001b[38;5;124m'\u001b[39m])\n\u001b[1;32m     31\u001b[0m lng\u001b[38;5;241m.\u001b[39mappend(response[\u001b[38;5;124m'\u001b[39m\u001b[38;5;124mcoord\u001b[39m\u001b[38;5;124m'\u001b[39m][\u001b[38;5;124m'\u001b[39m\u001b[38;5;124mlon\u001b[39m\u001b[38;5;124m'\u001b[39m])\n",
      "\u001b[0;31mKeyError\u001b[0m: 'name'"
     ]
    }
   ],
   "source": [
    "#url\n",
    "url = 'https://api.openweathermap.org/data/2.5/weather?'\n",
    "units = 'metric'\n",
    "\n",
    "#build query\n",
    "query_url = f'{url}appid={api_key}&units={units}&q='\n",
    "\n",
    "#set up lists to hold response info\n",
    "city_name = []\n",
    "lng = []\n",
    "lat = []\n",
    "temp_max = []\n",
    "humid = []\n",
    "cloudiness = []\n",
    "winds = []\n",
    "countries =[]\n",
    "date = []\n",
    "city_data = []\n",
    "\n",
    "#loop through the list of cities and prform a request for data on each\n",
    "for city in cities:\n",
    "    \n",
    "      #create the request, get response\n",
    "        response = requests.get(query_url + city).json()\n",
    "           \n",
    "        #appended the dataframe to add the variables below as columns\n",
    "        city_name.append(response['name'])\n",
    "        \n",
    "        lat.append(response['coord']['lat'])\n",
    "        \n",
    "        lng.append(response['coord']['lon'])\n",
    "        \n",
    "        temp_max.append(response['main']['temp_max'])\n",
    "        \n",
    "        humid.append(response['main']['humidity'])\n",
    "\n",
    "        cloudiness.append(response['clouds']['all'])\n",
    "        \n",
    "        winds.append(response['wind']['speed'])\n",
    "\n",
    "        countries.append(response['sys']['country'])\n",
    "\n",
    "        date.append(response['dt'])\n",
    "        \n",
    "        print(response['name'])\n"
   ]
  },
  {
   "cell_type": "markdown",
   "metadata": {},
   "source": [
    "### Convert Raw Data to DataFrame\n",
    "* Export the city data into a .csv.\n",
    "* Display the DataFrame"
   ]
  },
  {
   "cell_type": "code",
   "execution_count": 5,
   "metadata": {},
   "outputs": [],
   "source": [
    "#Created a dataframe below to hold the new variables that were created above\n",
    "\n",
    "the_weather_df = pd.DataFrame({'City': city_name,\n",
    "                               'Lat': lat,\n",
    "                               'Lng': lng,\n",
    "                               'Max Temp':temp_max,\n",
    "                               'Humidity':humid,\n",
    "                               'Wind': winds,\n",
    "                               'Cloudiness': cloudiness,\n",
    "                               'Country':countries,\n",
    "                               'Date':date})\n",
    "\n",
    "the_weather_df\n",
    "#saved data to csv\n",
    "the_weather_df.to_csv('BB_Homework.csv')\n"
   ]
  },
  {
   "cell_type": "code",
   "execution_count": null,
   "metadata": {},
   "outputs": [],
   "source": [
    "#the_weather_df.head()"
   ]
  },
  {
   "cell_type": "markdown",
   "metadata": {},
   "source": [
    "## Inspect the data and remove the cities where the humidity > 100%.\n",
    "----\n",
    "Skip this step if there are no cities that have humidity > 100%. "
   ]
  },
  {
   "cell_type": "code",
   "execution_count": null,
   "metadata": {},
   "outputs": [],
   "source": [
    "#used .loc function to find all the cities where 'Humidity' is greater than [xyz] \n",
    "the_weather_df.loc[the_weather_df['Humidity']>100]\n"
   ]
  },
  {
   "cell_type": "code",
   "execution_count": null,
   "metadata": {},
   "outputs": [],
   "source": [
    "#there were no cities that had humidity over 100%.\n"
   ]
  },
  {
   "cell_type": "markdown",
   "metadata": {},
   "source": [
    "## Plotting the Data\n",
    "* Use proper labeling of the plots using plot titles (including date of analysis) and axes labels.\n",
    "* Save the plotted figures as .pngs."
   ]
  },
  {
   "cell_type": "markdown",
   "metadata": {},
   "source": [
    "## Latitude vs. Temperature Plot"
   ]
  },
  {
   "cell_type": "code",
   "execution_count": 33,
   "metadata": {
    "scrolled": true
   },
   "outputs": [
    {
     "data": {
      "image/png": "[encoded data removed]",
      "text/plain": [
       "<Figure size 432x288 with 1 Axes>"
      ]
     },
     "metadata": {
      "needs_background": "light"
     },
     "output_type": "display_data"
    }
   ],
   "source": [
    "#created scatter plot to analyze the relationship between Latitude and Temp.\n",
    "\n",
    "plt.scatter(the_weather_df['Lat'],\n",
    "            the_weather_df['Max Temp'],\n",
    "            marker=\"o\", facecolors=\"red\", \n",
    "            edgecolors=\"black\")                                                            \n",
    "\n",
    "plt.title('Latitude vs. Temperature 10/24/2022')\n",
    "plt.xlabel('Latitude')\n",
    "plt.ylabel('Temperature (F)')\n",
    "plt.savefig('Homework_6')\n",
    "plt.show()\n"
   ]
  },
  {
   "cell_type": "markdown",
   "metadata": {},
   "source": [
    "## Latitude vs. Humidity Plot"
   ]
  },
  {
   "cell_type": "code",
   "execution_count": 32,
   "metadata": {},
   "outputs": [
    {
     "data": {
      "image/png": "[encoded data removed]",
      "text/plain": [
       "<Figure size 432x288 with 1 Axes>"
      ]
     },
     "metadata": {
      "needs_background": "light"
     },
     "output_type": "display_data"
    }
   ],
   "source": [
    "#created scatter plot to analyze the relationship between Latitude and Humidity.\n",
    "\n",
    "plt.scatter(the_weather_df['Lat'],\n",
    "            the_weather_df['Humidity'],\n",
    "            marker=\"o\", facecolors=\"red\", \n",
    "            edgecolors=\"black\")                                                            \n",
    "\n",
    "plt.title('Latitude vs. Humidity 10/24/2022')\n",
    "plt.xlabel('Latitude')\n",
    "plt.ylabel('Humidity')\n",
    "plt.savefig('Latitude_vs_Humidity.png')\n",
    "plt.show()\n"
   ]
  },
  {
   "cell_type": "markdown",
   "metadata": {},
   "source": [
    "## Latitude vs. Cloudiness Plot"
   ]
  },
  {
   "cell_type": "code",
   "execution_count": 31,
   "metadata": {},
   "outputs": [
    {
     "data": {
      "image/png": "[encoded data removed]",
      "text/plain": [
       "<Figure size 432x288 with 1 Axes>"
      ]
     },
     "metadata": {
      "needs_background": "light"
     },
     "output_type": "display_data"
    }
   ],
   "source": [
    "#created scatter plot to analyze the relationship between Latitude and Cloudiness.\n",
    "\n",
    "plt.scatter(the_weather_df['Lat'],\n",
    "            the_weather_df['Cloudiness'],\n",
    "            marker=\"o\", facecolors=\"red\", \n",
    "            edgecolors=\"black\")                                                            \n",
    "\n",
    "plt.title('Latitude vs. Cloudiness 10/24/2022')\n",
    "plt.xlabel('Latitude')\n",
    "plt.ylabel('Cloudiness')\n",
    "plt.savefig('Latitude_vs_Cloudiness.png')\n",
    "plt.show()\n"
   ]
  },
  {
   "cell_type": "markdown",
   "metadata": {},
   "source": [
    "## Latitude vs. Wind Speed Plot"
   ]
  },
  {
   "cell_type": "code",
   "execution_count": 30,
   "metadata": {},
   "outputs": [
    {
     "data": {
      "image/png": "[encoded data removed]",
      "text/plain": [
       "<Figure size 432x288 with 1 Axes>"
      ]
     },
     "metadata": {
      "needs_background": "light"
     },
     "output_type": "display_data"
    }
   ],
   "source": [
    "#created scatter plot to analyze the relationship between Latitude and Wind Speed.\n",
    "\n",
    "plt.scatter(the_weather_df['Lat'],\n",
    "            the_weather_df['Wind'],\n",
    "            marker=\"o\", facecolors=\"red\", \n",
    "            edgecolors=\"black\")                                                            \n",
    "\n",
    "plt.title('Latitude vs. Wind 10/24/2022')\n",
    "plt.xlabel('Latitude')\n",
    "plt.ylabel('Wind')\n",
    "plt.savefig('Latitude_vs_Wind.png')\n",
    "plt.show()\n"
   ]
  },
  {
   "cell_type": "markdown",
   "metadata": {},
   "source": [
    "## Linear Regression"
   ]
  },
  {
   "cell_type": "code",
   "execution_count": 12,
   "metadata": {},
   "outputs": [
    {
     "data": {
      "text/html": [
       "<div>\n",
       "<style scoped>\n",
       "    .dataframe tbody tr th:only-of-type {\n",
       "        vertical-align: middle;\n",
       "    }\n",
       "\n",
       "    .dataframe tbody tr th {\n",
       "        vertical-align: top;\n",
       "    }\n",
       "\n",
       "    .dataframe thead th {\n",
       "        text-align: right;\n",
       "    }\n",
       "</style>\n",
       "<table border=\"1\" class=\"dataframe\">\n",
       "  <thead>\n",
       "    <tr style=\"text-align: right;\">\n",
       "      <th></th>\n",
       "      <th>City</th>\n",
       "      <th>Lat</th>\n",
       "      <th>Lng</th>\n",
       "      <th>Max Temp</th>\n",
       "      <th>Humidity</th>\n",
       "      <th>Wind</th>\n",
       "      <th>Cloudiness</th>\n",
       "      <th>Country</th>\n",
       "      <th>Date</th>\n",
       "    </tr>\n",
       "  </thead>\n",
       "  <tbody>\n",
       "    <tr>\n",
       "      <th>0</th>\n",
       "      <td>Ixtapa</td>\n",
       "      <td>20.7000</td>\n",
       "      <td>-105.2</td>\n",
       "      <td>26.24</td>\n",
       "      <td>84</td>\n",
       "      <td>0.95</td>\n",
       "      <td>100</td>\n",
       "      <td>MX</td>\n",
       "      <td>1666672998</td>\n",
       "    </tr>\n",
       "    <tr>\n",
       "      <th>3</th>\n",
       "      <td>Ribeira Grande</td>\n",
       "      <td>38.5167</td>\n",
       "      <td>-28.7</td>\n",
       "      <td>18.21</td>\n",
       "      <td>83</td>\n",
       "      <td>5.81</td>\n",
       "      <td>90</td>\n",
       "      <td>PT</td>\n",
       "      <td>1666672999</td>\n",
       "    </tr>\n",
       "  </tbody>\n",
       "</table>\n",
       "</div>"
      ],
      "text/plain": [
       "             City      Lat    Lng  Max Temp  Humidity  Wind  Cloudiness  \\\n",
       "0          Ixtapa  20.7000 -105.2     26.24        84  0.95         100   \n",
       "3  Ribeira Grande  38.5167  -28.7     18.21        83  5.81          90   \n",
       "\n",
       "  Country        Date  \n",
       "0      MX  1666672998  \n",
       "3      PT  1666672999  "
      ]
     },
     "execution_count": 12,
     "metadata": {},
     "output_type": "execute_result"
    }
   ],
   "source": [
    "#created North Hemisphere Dataframe\n",
    "north_hem = the_weather_df.loc[the_weather_df['Lat'] >= 0]\n",
    "north_hem.head()"
   ]
  },
  {
   "cell_type": "code",
   "execution_count": 13,
   "metadata": {},
   "outputs": [
    {
     "data": {
      "text/html": [
       "<div>\n",
       "<style scoped>\n",
       "    .dataframe tbody tr th:only-of-type {\n",
       "        vertical-align: middle;\n",
       "    }\n",
       "\n",
       "    .dataframe tbody tr th {\n",
       "        vertical-align: top;\n",
       "    }\n",
       "\n",
       "    .dataframe thead th {\n",
       "        text-align: right;\n",
       "    }\n",
       "</style>\n",
       "<table border=\"1\" class=\"dataframe\">\n",
       "  <thead>\n",
       "    <tr style=\"text-align: right;\">\n",
       "      <th></th>\n",
       "      <th>City</th>\n",
       "      <th>Lat</th>\n",
       "      <th>Lng</th>\n",
       "      <th>Max Temp</th>\n",
       "      <th>Humidity</th>\n",
       "      <th>Wind</th>\n",
       "      <th>Cloudiness</th>\n",
       "      <th>Country</th>\n",
       "      <th>Date</th>\n",
       "    </tr>\n",
       "  </thead>\n",
       "  <tbody>\n",
       "    <tr>\n",
       "      <th>1</th>\n",
       "      <td>Madang</td>\n",
       "      <td>-5.2246</td>\n",
       "      <td>145.7966</td>\n",
       "      <td>30.15</td>\n",
       "      <td>61</td>\n",
       "      <td>3.38</td>\n",
       "      <td>94</td>\n",
       "      <td>PG</td>\n",
       "      <td>1666672999</td>\n",
       "    </tr>\n",
       "    <tr>\n",
       "      <th>2</th>\n",
       "      <td>Esperance</td>\n",
       "      <td>-33.8667</td>\n",
       "      <td>121.9000</td>\n",
       "      <td>16.79</td>\n",
       "      <td>77</td>\n",
       "      <td>5.95</td>\n",
       "      <td>100</td>\n",
       "      <td>AU</td>\n",
       "      <td>1666672965</td>\n",
       "    </tr>\n",
       "    <tr>\n",
       "      <th>4</th>\n",
       "      <td>Cabedelo</td>\n",
       "      <td>-6.9811</td>\n",
       "      <td>-34.8339</td>\n",
       "      <td>25.37</td>\n",
       "      <td>77</td>\n",
       "      <td>5.21</td>\n",
       "      <td>5</td>\n",
       "      <td>BR</td>\n",
       "      <td>1666673000</td>\n",
       "    </tr>\n",
       "    <tr>\n",
       "      <th>5</th>\n",
       "      <td>Bluff</td>\n",
       "      <td>-46.6000</td>\n",
       "      <td>168.3333</td>\n",
       "      <td>14.33</td>\n",
       "      <td>65</td>\n",
       "      <td>5.14</td>\n",
       "      <td>0</td>\n",
       "      <td>NZ</td>\n",
       "      <td>1666673000</td>\n",
       "    </tr>\n",
       "    <tr>\n",
       "      <th>6</th>\n",
       "      <td>Saint-Pierre</td>\n",
       "      <td>-21.3393</td>\n",
       "      <td>55.4781</td>\n",
       "      <td>25.51</td>\n",
       "      <td>61</td>\n",
       "      <td>2.57</td>\n",
       "      <td>0</td>\n",
       "      <td>RE</td>\n",
       "      <td>1666672831</td>\n",
       "    </tr>\n",
       "  </tbody>\n",
       "</table>\n",
       "</div>"
      ],
      "text/plain": [
       "           City      Lat       Lng  Max Temp  Humidity  Wind  Cloudiness  \\\n",
       "1        Madang  -5.2246  145.7966     30.15        61  3.38          94   \n",
       "2     Esperance -33.8667  121.9000     16.79        77  5.95         100   \n",
       "4      Cabedelo  -6.9811  -34.8339     25.37        77  5.21           5   \n",
       "5         Bluff -46.6000  168.3333     14.33        65  5.14           0   \n",
       "6  Saint-Pierre -21.3393   55.4781     25.51        61  2.57           0   \n",
       "\n",
       "  Country        Date  \n",
       "1      PG  1666672999  \n",
       "2      AU  1666672965  \n",
       "4      BR  1666673000  \n",
       "5      NZ  1666673000  \n",
       "6      RE  1666672831  "
      ]
     },
     "execution_count": 13,
     "metadata": {},
     "output_type": "execute_result"
    }
   ],
   "source": [
    "#created South Hemisphere Dataframe\n",
    "south_hem = the_weather_df.loc[the_weather_df['Lat'] <= 0]\n",
    "south_hem.head()"
   ]
  },
  {
   "cell_type": "markdown",
   "metadata": {},
   "source": [
    "####  Northern Hemisphere - Max Temp vs. Latitude Linear Regression"
   ]
  },
  {
   "cell_type": "code",
   "execution_count": 29,
   "metadata": {},
   "outputs": [
    {
     "name": "stdout",
     "output_type": "stream",
     "text": [
      "The r-squared is: 1.0\n"
     ]
    },
    {
     "data": {
      "image/png": "[encoded data removed]",
      "text/plain": [
       "<Figure size 432x288 with 1 Axes>"
      ]
     },
     "metadata": {
      "needs_background": "light"
     },
     "output_type": "display_data"
    }
   ],
   "source": [
    "#created scatter plot for Max Temp vs. Latitude Linear Regression in the northern hemisphere\n",
    "\n",
    "x_values = north_hem['Max Temp']\n",
    "y_values = north_hem['Lat']\n",
    "(slope, intercept, rvalue, pvalue, stderr) = linregress(x_values, y_values)\n",
    "regress_values = x_values * slope + intercept\n",
    "line_eq = \"y = \" + str(round(slope,2)) + \"x + \" + str(round(intercept,2))\n",
    "plt.scatter(x_values,y_values)\n",
    "plt.plot(x_values,regress_values,\"r-\")\n",
    "plt.annotate(line_eq,(0,50),fontsize=15,color=\"red\")\n",
    "plt.title('Northern Hemisphere- Max Temp vs. Latitude Linear Regression 10/24/2022')\n",
    "plt.xlabel('Max Temp')\n",
    "plt.ylabel('Latitude')\n",
    "print(f\"The r-squared is: {rvalue**2}\")\n",
    "plt.savefig('Northern Hemisphere Max Temp vs Lat.png')\n",
    "plt.show()\n"
   ]
  },
  {
   "cell_type": "markdown",
   "metadata": {},
   "source": [
    "####  Southern Hemisphere - Max Temp vs. Latitude Linear Regression"
   ]
  },
  {
   "cell_type": "code",
   "execution_count": 28,
   "metadata": {},
   "outputs": [
    {
     "name": "stdout",
     "output_type": "stream",
     "text": [
      "The r-squared is: 0.8917460096571994\n"
     ]
    },
    {
     "data": {
      "image/png": "[encoded data removed]",
      "text/plain": [
       "<Figure size 432x288 with 1 Axes>"
      ]
     },
     "metadata": {
      "needs_background": "light"
     },
     "output_type": "display_data"
    }
   ],
   "source": [
    "#created scatter plot for Max Temp vs. Latitude Linear Regression in the southern hemisphere\n",
    "\n",
    "x_values = south_hem['Max Temp']\n",
    "y_values = south_hem['Lat']\n",
    "(slope, intercept, rvalue, pvalue, stderr) = linregress(x_values, y_values)\n",
    "regress_values = x_values * slope + intercept\n",
    "line_eq = \"y = \" + str(round(slope,2)) + \"x + \" + str(round(intercept,2))\n",
    "plt.scatter(x_values,y_values)\n",
    "plt.plot(x_values,regress_values,\"r-\")\n",
    "plt.annotate(line_eq,(0,50),fontsize=15,color=\"red\")\n",
    "plt.title('Southern Hemisphere- Max Temp vs. Latitude Linear Regression 10/24/2022')\n",
    "plt.xlabel('Max Temp')\n",
    "plt.ylabel('Latitude')\n",
    "print(f\"The r-squared is: {rvalue**2}\")\n",
    "plt.savefig('Southern Hemisphere Max Temp vs Lat.png')\n",
    "plt.show()\n"
   ]
  },
  {
   "cell_type": "markdown",
   "metadata": {},
   "source": [
    "####  Northern Hemisphere - Humidity (%) vs. Latitude Linear Regression"
   ]
  },
  {
   "cell_type": "code",
   "execution_count": 27,
   "metadata": {},
   "outputs": [
    {
     "name": "stdout",
     "output_type": "stream",
     "text": [
      "The r-squared is: 1.0\n"
     ]
    },
    {
     "data": {
      "image/png": "[encoded data removed]",
      "text/plain": [
       "<Figure size 432x288 with 1 Axes>"
      ]
     },
     "metadata": {
      "needs_background": "light"
     },
     "output_type": "display_data"
    }
   ],
   "source": [
    "#created scatter plot for Humidity vs. Latitude Linear Regression in the northern hemisphere\n",
    "\n",
    "x_values = north_hem['Max Temp']\n",
    "y_values = north_hem['Lat']\n",
    "(slope, intercept, rvalue, pvalue, stderr) = linregress(x_values, y_values)\n",
    "regress_values = x_values * slope + intercept\n",
    "line_eq = \"y = \" + str(round(slope,2)) + \"x + \" + str(round(intercept,2))\n",
    "plt.scatter(x_values,y_values)\n",
    "plt.plot(x_values,regress_values,\"r-\")\n",
    "plt.annotate(line_eq,(0,50),fontsize=15,color=\"red\")\n",
    "plt.title('Northern Hemisphere- Max Temp vs. Latitude Linear Regression 10/24/2022')\n",
    "plt.xlabel('Humidity  (%)')\n",
    "plt.ylabel('Latitude')\n",
    "print(f\"The r-squared is: {rvalue**2}\")\n",
    "plt.savefig('Northern Hemisphere Humidity vs Lat.png')\n",
    "plt.show()\n"
   ]
  },
  {
   "cell_type": "markdown",
   "metadata": {},
   "source": [
    "####  Southern Hemisphere - Humidity (%) vs. Latitude Linear Regression"
   ]
  },
  {
   "cell_type": "code",
   "execution_count": 26,
   "metadata": {},
   "outputs": [
    {
     "name": "stdout",
     "output_type": "stream",
     "text": [
      "The r-squared is: 0.001083380974141234\n"
     ]
    },
    {
     "data": {
      "image/png": "[encoded data removed]",
      "text/plain": [
       "<Figure size 432x288 with 1 Axes>"
      ]
     },
     "metadata": {
      "needs_background": "light"
     },
     "output_type": "display_data"
    }
   ],
   "source": [
    "#created scatter plot for Humidity vs. Latitude Linear Regression in the southern hemisphere\n",
    "\n",
    "x_values = south_hem['Humidity']\n",
    "y_values = south_hem['Lat']\n",
    "(slope, intercept, rvalue, pvalue, stderr) = linregress(x_values, y_values)\n",
    "regress_values = x_values * slope + intercept\n",
    "line_eq = \"y = \" + str(round(slope,2)) + \"x + \" + str(round(intercept,2))\n",
    "plt.scatter(x_values,y_values)\n",
    "plt.plot(x_values,regress_values,\"r-\")\n",
    "plt.annotate(line_eq,(0,50),fontsize=15,color=\"red\")\n",
    "plt.title('Southern Hemisphere- Humidity (%) vs. Latitude Linear Regression 10/24/2022')\n",
    "plt.xlabel('Humidity  (%)')\n",
    "plt.ylabel('Latitude')\n",
    "print(f\"The r-squared is: {rvalue**2}\")\n",
    "plt.savefig('Southern Hemisphere Humidity vs Lat.png')\n",
    "plt.show()\n"
   ]
  },
  {
   "cell_type": "markdown",
   "metadata": {},
   "source": [
    "####  Northern Hemisphere - Cloudiness (%) vs. Latitude Linear Regression"
   ]
  },
  {
   "cell_type": "code",
   "execution_count": 25,
   "metadata": {},
   "outputs": [
    {
     "name": "stdout",
     "output_type": "stream",
     "text": [
      "The r-squared is: 1.0\n"
     ]
    },
    {
     "data": {
      "image/png": "[encoded data removed]",
      "text/plain": [
       "<Figure size 432x288 with 1 Axes>"
      ]
     },
     "metadata": {
      "needs_background": "light"
     },
     "output_type": "display_data"
    }
   ],
   "source": [
    "#created scatter plot for Cloudiness vs. Latitude Linear Regression in the northern hemisphere\n",
    "\n",
    "x_values = north_hem['Cloudiness']\n",
    "y_values = north_hem['Lat']\n",
    "(slope, intercept, rvalue, pvalue, stderr) = linregress(x_values, y_values)\n",
    "regress_values = x_values * slope + intercept\n",
    "line_eq = \"y = \" + str(round(slope,2)) + \"x + \" + str(round(intercept,2))\n",
    "plt.scatter(x_values,y_values)\n",
    "plt.plot(x_values,regress_values,\"r-\")\n",
    "plt.annotate(line_eq,(0,50),fontsize=15,color=\"red\")\n",
    "plt.title('Northern Hemisphere- Cloudiness vs. Latitude Linear Regression 10/24/2022')\n",
    "plt.xlabel('Cloudiness  (%)')\n",
    "plt.ylabel('Latitude')\n",
    "print(f\"The r-squared is: {rvalue**2}\")\n",
    "plt.savefig('Northern Hemisphere Cloudiness vs Lat.png')\n",
    "plt.show()\n"
   ]
  },
  {
   "cell_type": "markdown",
   "metadata": {},
   "source": [
    "####  Southern Hemisphere - Cloudiness (%) vs. Latitude Linear Regression"
   ]
  },
  {
   "cell_type": "code",
   "execution_count": 24,
   "metadata": {},
   "outputs": [
    {
     "name": "stdout",
     "output_type": "stream",
     "text": [
      "The r-squared is: 0.028556717313421843\n"
     ]
    },
    {
     "data": {
      "image/png": "[encoded data removed]",
      "text/plain": [
       "<Figure size 432x288 with 1 Axes>"
      ]
     },
     "metadata": {
      "needs_background": "light"
     },
     "output_type": "display_data"
    }
   ],
   "source": [
    "#created scatter plot for Cloudiness vs. Latitude Linear Regression in the southern hemisphere\n",
    "\n",
    "x_values = south_hem['Cloudiness']\n",
    "y_values = south_hem['Lat']\n",
    "(slope, intercept, rvalue, pvalue, stderr) = linregress(x_values, y_values)\n",
    "regress_values = x_values * slope + intercept\n",
    "line_eq = \"y = \" + str(round(slope,2)) + \"x + \" + str(round(intercept,2))\n",
    "plt.scatter(x_values,y_values)\n",
    "plt.plot(x_values,regress_values,\"r-\")\n",
    "plt.annotate(line_eq,(0,50),fontsize=15,color=\"red\")\n",
    "plt.title('Southern Hemisphere- Cloudiness vs. Latitude Linear Regression 10/24/2022')\n",
    "plt.xlabel('Cloudiness  (%)')\n",
    "plt.ylabel('Latitude')\n",
    "print(f\"The r-squared is: {rvalue**2}\")\n",
    "plt.savefig('Southern Hemisphere Cloudiness vs Lat.png')\n",
    "plt.show()\n"
   ]
  },
  {
   "cell_type": "markdown",
   "metadata": {},
   "source": [
    "####  Northern Hemisphere - Wind Speed (mph) vs. Latitude Linear Regression"
   ]
  },
  {
   "cell_type": "code",
   "execution_count": 23,
   "metadata": {},
   "outputs": [
    {
     "name": "stdout",
     "output_type": "stream",
     "text": [
      "The r-squared is: 1.0\n"
     ]
    },
    {
     "data": {
      "image/png": "[encoded data removed]",
      "text/plain": [
       "<Figure size 432x288 with 1 Axes>"
      ]
     },
     "metadata": {
      "needs_background": "light"
     },
     "output_type": "display_data"
    }
   ],
   "source": [
    "#created scatter plot for Wind Speed (mph) vs. Latitude Linear Regression in the northern hemisphere\n",
    "\n",
    "x_values = north_hem['Wind']\n",
    "y_values = north_hem['Lat']\n",
    "(slope, intercept, rvalue, pvalue, stderr) = linregress(x_values, y_values)\n",
    "regress_values = x_values * slope + intercept\n",
    "line_eq = \"y = \" + str(round(slope,2)) + \"x + \" + str(round(intercept,2))\n",
    "plt.scatter(x_values,y_values)\n",
    "plt.plot(x_values,regress_values,\"r-\")\n",
    "plt.annotate(line_eq,(0,50),fontsize=15,color=\"red\")\n",
    "plt.title('Northern Hemisphere- Wind Speed vs. Latitude Linear Regression 10/24/2022')\n",
    "plt.xlabel('Wind Speed (mph)')\n",
    "plt.ylabel('Latitude')\n",
    "print(f\"The r-squared is: {rvalue**2}\")\n",
    "plt.savefig('Northern Hemisphere Wind Speed vs Lat.png')\n",
    "plt.show()\n"
   ]
  },
  {
   "cell_type": "markdown",
   "metadata": {},
   "source": [
    "####  Southern Hemisphere - Wind Speed (mph) vs. Latitude Linear Regression"
   ]
  },
  {
   "cell_type": "code",
   "execution_count": 22,
   "metadata": {},
   "outputs": [
    {
     "name": "stdout",
     "output_type": "stream",
     "text": [
      "The r-squared is: 0.1814226248567703\n"
     ]
    },
    {
     "data": {
      "image/png": "[encoded data removed]",
      "text/plain": [
       "<Figure size 432x288 with 1 Axes>"
      ]
     },
     "metadata": {
      "needs_background": "light"
     },
     "output_type": "display_data"
    }
   ],
   "source": [
    "#created scatter plot for Wind Speed (mph) vs. Latitude Linear Regression in the southern hemisphere\n",
    "\n",
    "x_values = south_hem['Wind']\n",
    "y_values = south_hem['Lat']\n",
    "(slope, intercept, rvalue, pvalue, stderr) = linregress(x_values, y_values)\n",
    "regress_values = x_values * slope + intercept\n",
    "line_eq = \"y = \" + str(round(slope,2)) + \"x + \" + str(round(intercept,2))\n",
    "plt.scatter(x_values,y_values)\n",
    "plt.plot(x_values,regress_values,\"r-\")\n",
    "plt.annotate(line_eq,(0,50),fontsize=15,color=\"red\")\n",
    "plt.title('Southern Hemisphere- Wind Speed vs. Latitude Linear Regression 10/24/2022')\n",
    "plt.xlabel('Wind Speed (mph)')\n",
    "plt.ylabel('Latitude')\n",
    "print(f\"The r-squared is: {rvalue**2}\")\n",
    "plt.savefig('Southern Hemisphere Wind Speed vs Lat.png')\n",
    "plt.show()\n"
   ]
  },
  {
   "cell_type": "code",
   "execution_count": null,
   "metadata": {},
   "outputs": [],
   "source": []
  }
 ],
 "metadata": {
  "anaconda-cloud": {},
  "kernel_info": {
   "name": "python3"
  },
  "kernelspec": {
   "display_name": "PythonData",
   "language": "python",
   "name": "pythondata"
  },
  "language_info": {
   "codemirror_mode": {
    "name": "ipython",
    "version": 3
   },
   "file_extension": ".py",
   "mimetype": "text/x-python",
   "name": "python",
   "nbconvert_exporter": "python",
   "pygments_lexer": "ipython3",
   "version": "3.9.12"
  },
  "latex_envs": {
   "LaTeX_envs_menu_present": true,
   "autoclose": false,
   "autocomplete": true,
   "bibliofile": "biblio.bib",
   "cite_by": "apalike",
   "current_citInitial": 1,
   "eqLabelWithNumbers": true,
   "eqNumInitial": 1,
   "hotkeys": {
    "equation": "Ctrl-E",
    "itemize": "Ctrl-I"
   },
   "labels_anchors": false,
   "latex_user_defs": false,
   "report_style_numbering": false,
   "user_envs_cfg": false
  },
  "nteract": {
   "version": "0.12.3"
  }
 },
 "nbformat": 4,
 "nbformat_minor": 2
}
